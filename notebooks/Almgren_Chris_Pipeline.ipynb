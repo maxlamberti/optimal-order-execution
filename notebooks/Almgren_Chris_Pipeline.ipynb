{
 "cells": [
  {
   "cell_type": "code",
   "execution_count": 1,
   "metadata": {},
   "outputs": [],
   "source": [
    "import sys\n",
    "sys.path.append('../')"
   ]
  },
  {
   "cell_type": "code",
   "execution_count": 2,
   "metadata": {},
   "outputs": [],
   "source": [
    "import os\n",
    "import logging\n",
    "import numpy as np\n",
    "from tqdm import tqdm\n",
    "from seaborn import kdeplot\n",
    "import matplotlib.pyplot as plt"
   ]
  },
  {
   "cell_type": "code",
   "execution_count": 3,
   "metadata": {},
   "outputs": [],
   "source": [
    "from simulator.lob import OrderBookSimulator\n",
    "from scripts.utils.data_loading import get_data_file_paths"
   ]
  },
  {
   "cell_type": "code",
   "execution_count": 4,
   "metadata": {},
   "outputs": [],
   "source": [
    "logging.getLogger().setLevel(logging.ERROR)"
   ]
  },
  {
   "cell_type": "code",
   "execution_count": 202,
   "metadata": {},
   "outputs": [],
   "source": [
    "# simualation parameters\n",
    "DATA_ROOT = '../data/onetick/processed_3/AAPL'\n",
    "IMPACT_PARAM = 10 ** 8  # large values execute against historic orders\n",
    "DURATION = 20 * 60  # in seconds\n",
    "SAMPLING_FREQUENCY = 5  # in seconds, dicated by LOB data\n",
    "NUM_PERIODS = int(DURATION / SAMPLING_FREQUENCY)\n",
    "BREAK_PERIOD = 2 * NUM_PERIODS # int(NUM_PERIODS / 2)\n",
    "\n",
    "# almgren-chris parameters\n",
    "PLACEMENT_FREQUENCY = 6\n",
    "ORDER_SIZE = 100\n",
    "TRADE_SIZE = 2000"
   ]
  },
  {
   "cell_type": "code",
   "execution_count": 123,
   "metadata": {},
   "outputs": [],
   "source": [
    "simulation_periods = get_data_file_paths(DATA_ROOT)"
   ]
  },
  {
   "cell_type": "code",
   "execution_count": 194,
   "metadata": {},
   "outputs": [],
   "source": [
    "def num_assets(t, X, kappa, tau=SAMPLING_FREQUENCY, T=DURATION):\n",
    "    tau = tau / T\n",
    "    t = t / T\n",
    "    T = 1.0\n",
    "    return X * (2 * np.sinh(0.5 * kappa * tau) / np.sinh(kappa * T)) * np.cosh(kappa * (T - t))"
   ]
  },
  {
   "cell_type": "code",
   "execution_count": null,
   "metadata": {},
   "outputs": [],
   "source": []
  },
  {
   "cell_type": "code",
   "execution_count": 279,
   "metadata": {},
   "outputs": [
    {
     "data": {
      "text/plain": [
       "1999.9999999999989"
      ]
     },
     "execution_count": 279,
     "metadata": {},
     "output_type": "execute_result"
    }
   ],
   "source": [
    "AC_FREQ = 60\n",
    "t = np.arange(1, DURATION + 1, AC_FREQ)\n",
    "n = num_assets(t, TRADE_SIZE, 5, tau=AC_FREQ)\n",
    "n = TRADE_SIZE * n / sum(n)\n",
    "sum(n)"
   ]
  },
  {
   "cell_type": "code",
   "execution_count": 280,
   "metadata": {},
   "outputs": [
    {
     "data": {
      "text/plain": [
       "Text(0.5, 0, 'Time (Seconds)')"
      ]
     },
     "execution_count": 280,
     "metadata": {},
     "output_type": "execute_result"
    },
    {
     "data": {
      "image/png": "[encoded data removed]",
      "text/plain": [
       "<Figure size 432x288 with 1 Axes>"
      ]
     },
     "metadata": {
      "needs_background": "light"
     },
     "output_type": "display_data"
    }
   ],
   "source": [
    "plt.plot(t, TRADE_SIZE - np.cumsum(n))\n",
    "plt.ylim(0, 1.1 * sum(n))\n",
    "plt.xlim(0, DURATION)\n",
    "plt.ylabel('Inventory (Units of stock)')\n",
    "plt.xlabel('Time (Seconds)')"
   ]
  },
  {
   "cell_type": "code",
   "execution_count": 281,
   "metadata": {},
   "outputs": [
    {
     "data": {
      "text/plain": [
       "Text(0.5, 0, 'Time (Seconds)')"
      ]
     },
     "execution_count": 281,
     "metadata": {},
     "output_type": "execute_result"
    },
    {
     "data": {
      "image/png": "[encoded data removed]",
      "text/plain": [
       "<Figure size 432x288 with 1 Axes>"
      ]
     },
     "metadata": {
      "needs_background": "light"
     },
     "output_type": "display_data"
    }
   ],
   "source": [
    "plt.plot(t, n, 'x')\n",
    "plt.ylim(0, 1.1 * max(n))\n",
    "plt.ylabel('Trade Size')\n",
    "plt.xlabel('Time (Seconds)')"
   ]
  },
  {
   "cell_type": "markdown",
   "metadata": {},
   "source": [
    "### Strategy which places a market sell order every PLACEMENT_FREQUENCY periods"
   ]
  },
  {
   "cell_type": "code",
   "execution_count": 81,
   "metadata": {},
   "outputs": [],
   "source": [
    "calc_midprice = lambda x: (x.BID_PRICE.max() + x.ASK_PRICE.min()) / 2"
   ]
  },
  {
   "cell_type": "code",
   "execution_count": 82,
   "metadata": {},
   "outputs": [],
   "source": [
    "def almgren_chris(sim_data_path, order_size=ORDER_SIZE, num_periods=NUM_PERIODS, impact_param=IMPACT_PARAM, placement_frequency=PLACEMENT_FREQUENCY, break_period=BREAK_PERIOD):\n",
    "    \n",
    "    try:\n",
    "        \n",
    "        # set up LOB simulator\n",
    "        order_book_file = os.path.join(sim_data_path, 'ob.feather')\n",
    "        trades_file = os.path.join(sim_data_path, 'trades.feather')\n",
    "        LOB = OrderBookSimulator(order_book_file, trades_file, impact_param)\n",
    "\n",
    "        # we will save our trade data to these lists\n",
    "        order_list = []\n",
    "        midprice_series = []\n",
    "\n",
    "        for period in range(0, num_periods):\n",
    "\n",
    "            if period == break_period:\n",
    "                break\n",
    "            \n",
    "            # advance state\n",
    "            ob, trds, executed_orders, active_limit_order_levels = LOB.iterate()\n",
    "\n",
    "            # place sell order\n",
    "            if not (period % placement_frequency):\n",
    "                LOB.place_market_sell_order(order_size)\n",
    "\n",
    "            # save data\n",
    "            midprice_series.append(calc_midprice(ob))\n",
    "            order_list += executed_orders\n",
    "            \n",
    "    except:\n",
    "        \n",
    "        order_list = []\n",
    "        midprice_series = []\n",
    "    \n",
    "    return (order_list, midprice_series)"
   ]
  },
  {
   "cell_type": "code",
   "execution_count": 83,
   "metadata": {},
   "outputs": [],
   "source": [
    "import multiprocessing as mp\n",
    "\n",
    "with mp.Pool(max(1, mp.cpu_count() - 1)) as pool:\n",
    "    pool_results = pool.map(almgren_chris, simulation_periods)"
   ]
  },
  {
   "cell_type": "code",
   "execution_count": 10,
   "metadata": {},
   "outputs": [],
   "source": [
    "def calculate_shortfall(pool_results):\n",
    "    ALL_DATA = {}\n",
    "    for idx, res in enumerate(pool_results):\n",
    "        if len(res[0]) == 0:\n",
    "            continue\n",
    "        ALL_DATA[idx] = {'price_series': res[1], 'executed_orders': res[0]}\n",
    "    \n",
    "    shortfall_results = []\n",
    "    for sim_data_path, sim_results in ALL_DATA.items():\n",
    "        vol_weighted_price_sum = sum([order['volume'] * order['price'] for order in sim_results['executed_orders']])   \n",
    "        total_volume = sum([order['volume'] for order in sim_results['executed_orders']])\n",
    "        vwap = vol_weighted_price_sum / total_volume\n",
    "        initial_price = sim_results['price_series'][0]\n",
    "        shortfall = 100 * (vwap - initial_price) / initial_price\n",
    "        shortfall_results.append(shortfall)\n",
    "    \n",
    "    return shortfall_results"
   ]
  },
  {
   "cell_type": "code",
   "execution_count": 61,
   "metadata": {},
   "outputs": [],
   "source": [
    "shortfall_very_fast = calculate_shortfall(pool_results)\n",
    "very_fast_pool_results = pool_results"
   ]
  },
  {
   "cell_type": "code",
   "execution_count": 70,
   "metadata": {},
   "outputs": [],
   "source": [
    "shortfall_fast = calculate_shortfall(pool_results)"
   ]
  },
  {
   "cell_type": "code",
   "execution_count": 86,
   "metadata": {},
   "outputs": [],
   "source": [
    "shortfall_slow = calculate_shortfall(pool_results)\n",
    "slow_pool_results = pool_results"
   ]
  },
  {
   "cell_type": "code",
   "execution_count": 87,
   "metadata": {},
   "outputs": [
    {
     "data": {
      "text/plain": [
       "(-0.5, 0.5)"
      ]
     },
     "execution_count": 87,
     "metadata": {},
     "output_type": "execute_result"
    },
    {
     "data": {
      "image/png": "[encoded data removed]",
      "text/plain": [
       "<Figure size 432x288 with 1 Axes>"
      ]
     },
     "metadata": {
      "needs_background": "light"
     },
     "output_type": "display_data"
    }
   ],
   "source": [
    "kdeplot(shortfall_slow, shade=True, label='slow')\n",
    "kdeplot(shortfall_fast, shade=True, label='fast')\n",
    "kdeplot(shortfall_very_fast, shade=True, label='very fast')\n",
    "plt.xlim((-0.5, 0.5))"
   ]
  },
  {
   "cell_type": "code",
   "execution_count": 73,
   "metadata": {},
   "outputs": [
    {
     "name": "stdout",
     "output_type": "stream",
     "text": [
      "VERY FAST EXECUTION\n",
      "Mean Shortfall: -1.6969 bps +/- 0.0652 bps\n",
      "StDev Shortfall: 0.0919%\n"
     ]
    }
   ],
   "source": [
    "very_fast_mean = np.mean(shortfall_very_fast)\n",
    "very_fast_std = np.std(shortfall_very_fast)\n",
    "very_fast_se = very_fast_std / np.sqrt(len(shortfall_very_fast))\n",
    "print('VERY FAST EXECUTION')\n",
    "print('Mean Shortfall: %.4f bps +/- %.4f bps' % (100 * very_fast_mean, 100 * very_fast_se))\n",
    "print('StDev Shortfall: %.4f%%' % very_fast_std)"
   ]
  },
  {
   "cell_type": "code",
   "execution_count": 74,
   "metadata": {},
   "outputs": [
    {
     "name": "stdout",
     "output_type": "stream",
     "text": [
      "FAST EXECUTION\n",
      "Mean Shortfall: -1.4192 bps +/- 0.0909 bps\n",
      "StDev Shortfall: 0.1281%\n"
     ]
    }
   ],
   "source": [
    "fast_mean = np.mean(shortfall_fast)\n",
    "fast_std = np.std(shortfall_fast)\n",
    "fast_se = fast_std / np.sqrt(len(shortfall_fast))\n",
    "print('FAST EXECUTION')\n",
    "print('Mean Shortfall: %.4f bps +/- %.4f bps' % (100 * fast_mean, 100 * fast_se))\n",
    "print('StDev Shortfall: %.4f%%' % fast_std)"
   ]
  },
  {
   "cell_type": "code",
   "execution_count": 88,
   "metadata": {},
   "outputs": [
    {
     "name": "stdout",
     "output_type": "stream",
     "text": [
      "SLOW EXECUTION\n",
      "Mean Shortfall:  -1.5244 bps +/-  0.1843 bps\n",
      "StDev Shortfall:  0.2592%\n"
     ]
    }
   ],
   "source": [
    "slow_mean = np.mean(shortfall_slow)\n",
    "slow_std = np.std(shortfall_slow)\n",
    "slow_se = slow_std / np.sqrt(len(shortfall_slow))\n",
    "print('SLOW EXECUTION')\n",
    "print('Mean Shortfall:  %.4f bps +/-  %.4f bps' % (100 * slow_mean, 100 * slow_se))\n",
    "print('StDev Shortfall:  %.4f%%' % slow_std)"
   ]
  },
  {
   "cell_type": "code",
   "execution_count": null,
   "metadata": {},
   "outputs": [],
   "source": []
  },
  {
   "cell_type": "code",
   "execution_count": null,
   "metadata": {},
   "outputs": [],
   "source": []
  },
  {
   "cell_type": "code",
   "execution_count": 77,
   "metadata": {},
   "outputs": [
    {
     "data": {
      "image/png": "[encoded data removed]",
      "text/plain": [
       "<Figure size 432x288 with 1 Axes>"
      ]
     },
     "metadata": {
      "needs_background": "light"
     },
     "output_type": "display_data"
    }
   ],
   "source": [
    "import scipy.stats as stats\n",
    "import math\n",
    "\n",
    "mu = very_fast_mean\n",
    "sigma = very_fast_se\n",
    "x = np.linspace(mu - 3*sigma, mu + 3*sigma, 100)\n",
    "plt.plot(x, stats.norm.pdf(x, mu, sigma), label='Very Fast Execution')\n",
    "mu = fast_mean\n",
    "sigma = fast_se\n",
    "x = np.linspace(mu - 3*sigma, mu + 3*sigma, 100)\n",
    "plt.plot(x, stats.norm.pdf(x, mu, sigma), label='Fast Execution')\n",
    "mu = slow_mean\n",
    "sigma = slow_se\n",
    "x = np.linspace(mu - 3*sigma, mu + 3*sigma, 100)\n",
    "plt.plot(x, stats.norm.pdf(x, mu, sigma), label='Slow Execution')\n",
    "plt.title('Estimates of the Mean Shortfall at Different Execution Speeds (Chris-Almgren)')\n",
    "plt.ylabel('PDF')\n",
    "plt.xlabel('Shortfall')\n",
    "plt.legend()\n",
    "plt.show()"
   ]
  },
  {
   "cell_type": "code",
   "execution_count": null,
   "metadata": {},
   "outputs": [],
   "source": []
  }
 ],
 "metadata": {
  "kernelspec": {
   "display_name": "Python 3",
   "language": "python",
   "name": "python3"
  },
  "language_info": {
   "codemirror_mode": {
    "name": "ipython",
    "version": 3
   },
   "file_extension": ".py",
   "mimetype": "text/x-python",
   "name": "python",
   "nbconvert_exporter": "python",
   "pygments_lexer": "ipython3",
   "version": "3.7.6"
  }
 },
 "nbformat": 4,
 "nbformat_minor": 4
}

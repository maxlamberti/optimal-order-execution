{
 "cells": [
  {
   "cell_type": "code",
   "execution_count": 2,
   "metadata": {},
   "outputs": [],
   "source": [
    "import sys\n",
    "sys.path.append('../')"
   ]
  },
  {
   "cell_type": "code",
   "execution_count": 3,
   "metadata": {},
   "outputs": [],
   "source": [
    "import os\n",
    "import logging\n",
    "import numpy as np\n",
    "from tqdm import tqdm\n",
    "from seaborn import kdeplot\n",
    "import matplotlib.pyplot as plt"
   ]
  },
  {
   "cell_type": "code",
   "execution_count": 4,
   "metadata": {},
   "outputs": [],
   "source": [
    "from simulator.lob import OrderBookSimulator\n",
    "from scripts.utils.data_loading import get_data_file_paths"
   ]
  },
  {
   "cell_type": "code",
   "execution_count": 5,
   "metadata": {},
   "outputs": [],
   "source": [
    "logging.getLogger().setLevel(logging.ERROR)"
   ]
  },
  {
   "cell_type": "code",
   "execution_count": 33,
   "metadata": {},
   "outputs": [],
   "source": [
    "DATA_ROOT = '../data/onetick/processed_2/AAPL'\n",
    "IMPACT_PARAM = 10 ** 8  # large values execute against historic orders\n",
    "DURATION = 30 * 60  # in seconds\n",
    "SAMPLING_FREQUENCY = 5  # in seconds, dicated by LOB data\n",
    "NUM_PERIODS = int(DURATION / SAMPLING_FREQUENCY)\n",
    "PLACEMENT_FREQUENCY = 12\n",
    "ORDER_SIZE = 200\n",
    "BREAK_PERIOD = int(NUM_PERIODS / 2)"
   ]
  },
  {
   "cell_type": "code",
   "execution_count": 34,
   "metadata": {},
   "outputs": [],
   "source": [
    "simulation_periods = get_data_file_paths(DATA_ROOT)"
   ]
  },
  {
   "cell_type": "markdown",
   "metadata": {},
   "source": [
    "### Strategy which places a market sell order every PLACEMENT_FREQUENCY periods"
   ]
  },
  {
   "cell_type": "code",
   "execution_count": 35,
   "metadata": {},
   "outputs": [],
   "source": [
    "calc_midprice = lambda x: (x.BID_PRICE.max() + x.ASK_PRICE.min()) / 2"
   ]
  },
  {
   "cell_type": "code",
   "execution_count": 36,
   "metadata": {},
   "outputs": [],
   "source": [
    "def almgren_chris(sim_data_path, order_size=ORDER_SIZE, num_periods=NUM_PERIODS, impact_param=IMPACT_PARAM, placement_frequency=PLACEMENT_FREQUENCY, break_period=BREAK_PERIOD):\n",
    "    \n",
    "    try:\n",
    "        \n",
    "        # set up LOB simulator\n",
    "        order_book_file = os.path.join(sim_data_path, 'ob.feather')\n",
    "        trades_file = os.path.join(sim_data_path, 'trades.feather')\n",
    "        LOB = OrderBookSimulator(order_book_file, trades_file, impact_param)\n",
    "\n",
    "        # we will save our trade data to these lists\n",
    "        order_list = []\n",
    "        midprice_series = []\n",
    "\n",
    "        for period in range(0, num_periods):\n",
    "\n",
    "            if period == break_period:\n",
    "                break\n",
    "            \n",
    "            # advance state\n",
    "            ob, trds, executed_orders, active_limit_order_levels = LOB.iterate()\n",
    "\n",
    "            # place sell order\n",
    "            if not (period % placement_frequency):\n",
    "                LOB.place_market_sell_order(100)\n",
    "\n",
    "            # save data\n",
    "            midprice_series.append(calc_midprice(ob))\n",
    "            order_list += executed_orders\n",
    "            \n",
    "    except:\n",
    "        order_list = []\n",
    "        midprice_series = []\n",
    "    \n",
    "    return (order_list, midprice_series)"
   ]
  },
  {
   "cell_type": "code",
   "execution_count": 40,
   "metadata": {},
   "outputs": [],
   "source": [
    "import multiprocessing as mp\n",
    "\n",
    "with mp.Pool(max(1, mp.cpu_count() - 1)) as pool:\n",
    "    pool_results = pool.map(almgren_chris, simulation_periods)"
   ]
  },
  {
   "cell_type": "code",
   "execution_count": 37,
   "metadata": {},
   "outputs": [],
   "source": [
    "def calculate_shortfall(pool_results):\n",
    "    ALL_DATA = {}\n",
    "    for idx, res in enumerate(pool_results):\n",
    "        if len(res[0]) == 0:\n",
    "            continue\n",
    "        ALL_DATA[idx] = {'price_series': res[1], 'executed_orders': res[0]}\n",
    "    \n",
    "    shortfall_results = []\n",
    "    for sim_data_path, sim_results in ALL_DATA.items():\n",
    "        vol_weighted_price_sum = sum([order['volume'] * order['price'] for order in sim_results['executed_orders']])   \n",
    "        total_volume = sum([order['volume'] for order in sim_results['executed_orders']])\n",
    "        vwap = vol_weighted_price_sum / total_volume\n",
    "        initial_price = sim_results['price_series'][0]\n",
    "        shortfall = 100 * (vwap - initial_price) / initial_price\n",
    "        shortfall_results.append(shortfall)\n",
    "    \n",
    "    return shortfall_results"
   ]
  },
  {
   "cell_type": "code",
   "execution_count": 44,
   "metadata": {},
   "outputs": [
    {
     "name": "stdout",
     "output_type": "stream",
     "text": [
      "Mean Shortfall: -0.00%\n",
      "StdDev Shortfall: 0.13%\n"
     ]
    }
   ],
   "source": [
    "shortfall_fast = calculate_shortfall(pool_results)"
   ]
  },
  {
   "cell_type": "code",
   "execution_count": 38,
   "metadata": {},
   "outputs": [
    {
     "name": "stdout",
     "output_type": "stream",
     "text": [
      "Mean Shortfall: -0.00%\n",
      "StdDev Shortfall: 0.18%\n"
     ]
    }
   ],
   "source": [
    "shortfall_slow = calculate_shortfall(pool_results)"
   ]
  },
  {
   "cell_type": "code",
   "execution_count": 84,
   "metadata": {},
   "outputs": [
    {
     "data": {
      "text/plain": [
       "<matplotlib.axes._subplots.AxesSubplot at 0x7f831eb11190>"
      ]
     },
     "execution_count": 84,
     "metadata": {},
     "output_type": "execute_result"
    },
    {
     "data": {
      "image/png": "[encoded data removed]",
      "text/plain": [
       "<Figure size 432x288 with 1 Axes>"
      ]
     },
     "metadata": {
      "needs_background": "light"
     },
     "output_type": "display_data"
    }
   ],
   "source": [
    "kdeplot(shortfall_slow, shade=True, label='slow')\n",
    "kdeplot(shortfall_fast, shade=True, label='fast')"
   ]
  },
  {
   "cell_type": "code",
   "execution_count": 89,
   "metadata": {},
   "outputs": [],
   "source": [
    "fast_mean = np.mean(shortfall_fast)\n",
    "fast_std = np.std(shortfall_fast)\n",
    "fast_se = fast_std / np.sqrt(len(shortfall_fast))\n",
    "slow_mean = np.mean(shortfall_slow)\n",
    "slow_std = np.std(shortfall_slow)\n",
    "slow_se = slow_std / np.sqrt(len(shortfall_slow))"
   ]
  },
  {
   "cell_type": "code",
   "execution_count": 90,
   "metadata": {},
   "outputs": [
    {
     "name": "stdout",
     "output_type": "stream",
     "text": [
      "FAST EXECUTION\n",
      "Mean Shortfall: -0.1895 bps +/- 0.2058 bps\n",
      "StDev Shortfall: 0.1299%\n",
      "\n",
      "SLOW EXECUTION\n",
      "Mean Shortfall:  -0.1154 bps +/-  0.2870 bps\n",
      "StDev Shortfall:  0.1811%\n"
     ]
    }
   ],
   "source": [
    "print('FAST EXECUTION')\n",
    "print('Mean Shortfall: %.4f bps +/- %.4f bps' % (100 * fast_mean, 100 * fast_se))\n",
    "print('StDev Shortfall: %.4f%%' % fast_std)\n",
    "print()\n",
    "print('SLOW EXECUTION')\n",
    "print('Mean Shortfall:  %.4f bps +/-  %.4f bps' % (100 * slow_mean, 100 * slow_se))\n",
    "print('StDev Shortfall:  %.4f%%' % slow_std)"
   ]
  },
  {
   "cell_type": "code",
   "execution_count": null,
   "metadata": {},
   "outputs": [],
   "source": []
  },
  {
   "cell_type": "code",
   "execution_count": null,
   "metadata": {},
   "outputs": [],
   "source": []
  },
  {
   "cell_type": "code",
   "execution_count": null,
   "metadata": {},
   "outputs": [],
   "source": []
  },
  {
   "cell_type": "code",
   "execution_count": null,
   "metadata": {},
   "outputs": [],
   "source": []
  }
 ],
 "metadata": {
  "kernelspec": {
   "display_name": "Python 3",
   "language": "python",
   "name": "python3"
  },
  "language_info": {
   "codemirror_mode": {
    "name": "ipython",
    "version": 3
   },
   "file_extension": ".py",
   "mimetype": "text/x-python",
   "name": "python",
   "nbconvert_exporter": "python",
   "pygments_lexer": "ipython3",
   "version": "3.7.6"
  }
 },
 "nbformat": 4,
 "nbformat_minor": 4
}

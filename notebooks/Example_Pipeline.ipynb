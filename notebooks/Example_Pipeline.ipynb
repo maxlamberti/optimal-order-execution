{
 "cells": [
  {
   "cell_type": "code",
   "execution_count": 1,
   "metadata": {},
   "outputs": [],
   "source": [
    "import sys\n",
    "sys.path.append('../')"
   ]
  },
  {
   "cell_type": "code",
   "execution_count": 2,
   "metadata": {},
   "outputs": [],
   "source": [
    "import os\n",
    "import logging\n",
    "import numpy as np\n",
    "from tqdm import tqdm"
   ]
  },
  {
   "cell_type": "code",
   "execution_count": 3,
   "metadata": {},
   "outputs": [],
   "source": [
    "from simulator.lob import OrderBookSimulator\n",
    "from scripts.utils.data_loading import get_data_file_paths"
   ]
  },
  {
   "cell_type": "code",
   "execution_count": 4,
   "metadata": {},
   "outputs": [],
   "source": [
    "logging.getLogger().setLevel(logging.ERROR)"
   ]
  },
  {
   "cell_type": "code",
   "execution_count": 5,
   "metadata": {},
   "outputs": [],
   "source": [
    "DATA_ROOT = '../data/onetick/processed_2/AAPL'\n",
    "IMPACT_PARAM = 10 ** 8  # large values execute against historic orders\n",
    "DURATION = 30 * 60  # in seconds\n",
    "SAMPLING_FREQUENCY = 5  # in seconds, dicated by LOB data\n",
    "NUM_PERIODS = int(DURATION / SAMPLING_FREQUENCY)"
   ]
  },
  {
   "cell_type": "code",
   "execution_count": 6,
   "metadata": {},
   "outputs": [],
   "source": [
    "simulation_periods = get_data_file_paths(DATA_ROOT)"
   ]
  },
  {
   "cell_type": "markdown",
   "metadata": {},
   "source": [
    "### Strategy which places a market sell order every PLACEMENT_FREQUENCY periods"
   ]
  },
  {
   "cell_type": "code",
   "execution_count": 8,
   "metadata": {},
   "outputs": [],
   "source": [
    "calc_midprice = lambda x: (x.BID_PRICE.max() + x.ASK_PRICE.min()) / 2"
   ]
  },
  {
   "cell_type": "code",
   "execution_count": 9,
   "metadata": {},
   "outputs": [
    {
     "name": "stderr",
     "output_type": "stream",
     "text": [
      " 41%|████      | 1642/3991 [09:07<13:01,  3.01it/s]"
     ]
    },
    {
     "ename": "StopIteration",
     "evalue": "",
     "output_type": "error",
     "traceback": [
      "\u001b[0;31m---------------------------------------------------------------------------\u001b[0m",
      "\u001b[0;31mStopIteration\u001b[0m                             Traceback (most recent call last)",
      "\u001b[0;32m<ipython-input-9-e14f1afadd7c>\u001b[0m in \u001b[0;36m<module>\u001b[0;34m\u001b[0m\n\u001b[1;32m     16\u001b[0m \u001b[0;34m\u001b[0m\u001b[0m\n\u001b[1;32m     17\u001b[0m         \u001b[0;31m# advance state\u001b[0m\u001b[0;34m\u001b[0m\u001b[0;34m\u001b[0m\u001b[0;34m\u001b[0m\u001b[0m\n\u001b[0;32m---> 18\u001b[0;31m         \u001b[0mob\u001b[0m\u001b[0;34m,\u001b[0m \u001b[0mtrds\u001b[0m\u001b[0;34m,\u001b[0m \u001b[0mexecuted_orders\u001b[0m\u001b[0;34m,\u001b[0m \u001b[0mactive_limit_order_levels\u001b[0m \u001b[0;34m=\u001b[0m \u001b[0mLOB\u001b[0m\u001b[0;34m.\u001b[0m\u001b[0miterate\u001b[0m\u001b[0;34m(\u001b[0m\u001b[0;34m)\u001b[0m\u001b[0;34m\u001b[0m\u001b[0;34m\u001b[0m\u001b[0m\n\u001b[0m\u001b[1;32m     19\u001b[0m \u001b[0;34m\u001b[0m\u001b[0m\n\u001b[1;32m     20\u001b[0m         \u001b[0;31m# place sell order\u001b[0m\u001b[0;34m\u001b[0m\u001b[0;34m\u001b[0m\u001b[0;34m\u001b[0m\u001b[0m\n",
      "\u001b[0;32m~/Code/optimal-order-execution/simulator/lob.py\u001b[0m in \u001b[0;36miterate\u001b[0;34m(self)\u001b[0m\n\u001b[1;32m     70\u001b[0m                         \u001b[0mself\u001b[0m\u001b[0;34m.\u001b[0m\u001b[0mnew_market_order\u001b[0m \u001b[0;34m=\u001b[0m \u001b[0;34m{\u001b[0m\u001b[0;34m}\u001b[0m  \u001b[0;31m# reset\u001b[0m\u001b[0;34m\u001b[0m\u001b[0;34m\u001b[0m\u001b[0m\n\u001b[1;32m     71\u001b[0m                 \u001b[0;32melse\u001b[0m\u001b[0;34m:\u001b[0m  \u001b[0;31m# if no new market order, advance state\u001b[0m\u001b[0;34m\u001b[0m\u001b[0;34m\u001b[0m\u001b[0m\n\u001b[0;32m---> 72\u001b[0;31m                         \u001b[0mob\u001b[0m\u001b[0;34m,\u001b[0m \u001b[0mtrds\u001b[0m\u001b[0;34m,\u001b[0m \u001b[0msim_time\u001b[0m \u001b[0;34m=\u001b[0m \u001b[0mself\u001b[0m\u001b[0;34m.\u001b[0m\u001b[0m_get_next_market_state\u001b[0m\u001b[0;34m(\u001b[0m\u001b[0;34m)\u001b[0m\u001b[0;34m\u001b[0m\u001b[0;34m\u001b[0m\u001b[0m\n\u001b[0m\u001b[1;32m     73\u001b[0m \u001b[0;34m\u001b[0m\u001b[0m\n\u001b[1;32m     74\u001b[0m                 \u001b[0;31m# place new limit orders\u001b[0m\u001b[0;34m\u001b[0m\u001b[0;34m\u001b[0m\u001b[0;34m\u001b[0m\u001b[0m\n",
      "\u001b[0;32m~/Code/optimal-order-execution/simulator/lob.py\u001b[0m in \u001b[0;36m_get_next_market_state\u001b[0;34m(self)\u001b[0m\n\u001b[1;32m    181\u001b[0m \u001b[0;34m\u001b[0m\u001b[0m\n\u001b[1;32m    182\u001b[0m                 \u001b[0mob_time\u001b[0m\u001b[0;34m,\u001b[0m \u001b[0mob\u001b[0m \u001b[0;34m=\u001b[0m \u001b[0mnext\u001b[0m\u001b[0;34m(\u001b[0m\u001b[0mself\u001b[0m\u001b[0;34m.\u001b[0m\u001b[0mob_iterator\u001b[0m\u001b[0;34m)\u001b[0m\u001b[0;34m\u001b[0m\u001b[0;34m\u001b[0m\u001b[0m\n\u001b[0;32m--> 183\u001b[0;31m                 \u001b[0mtrade_interval\u001b[0m\u001b[0;34m,\u001b[0m \u001b[0mtrds\u001b[0m \u001b[0;34m=\u001b[0m \u001b[0mnext\u001b[0m\u001b[0;34m(\u001b[0m\u001b[0mself\u001b[0m\u001b[0;34m.\u001b[0m\u001b[0mtrade_iterator\u001b[0m\u001b[0;34m)\u001b[0m\u001b[0;34m\u001b[0m\u001b[0;34m\u001b[0m\u001b[0m\n\u001b[0m\u001b[1;32m    184\u001b[0m \u001b[0;34m\u001b[0m\u001b[0m\n\u001b[1;32m    185\u001b[0m                 \u001b[0;32mif\u001b[0m \u001b[0mob_time\u001b[0m \u001b[0;34m!=\u001b[0m \u001b[0mtrade_interval\u001b[0m\u001b[0;34m:\u001b[0m\u001b[0;34m\u001b[0m\u001b[0;34m\u001b[0m\u001b[0m\n",
      "\u001b[0;31mStopIteration\u001b[0m: "
     ]
    }
   ],
   "source": [
    "PLACEMENT_FREQUENCY = 12\n",
    "ALL_DATA = {}\n",
    "\n",
    "for sim_data_path in tqdm(simulation_periods):\n",
    "\n",
    "    # set up LOB simulator\n",
    "    order_book_file = os.path.join(sim_data_path, 'ob.feather')\n",
    "    trades_file = os.path.join(sim_data_path, 'trades.feather')\n",
    "    LOB = OrderBookSimulator(order_book_file, trades_file, IMPACT_PARAM)\n",
    "    \n",
    "    # we will save our trade data to these lists\n",
    "    order_list = []\n",
    "    midprice_series = []\n",
    "    \n",
    "    for period in range(0, NUM_PERIODS):\n",
    "        \n",
    "        # advance state\n",
    "        ob, trds, executed_orders, active_limit_order_levels = LOB.iterate()\n",
    "        \n",
    "        # place sell order\n",
    "        if not (period % PLACEMENT_FREQUENCY):\n",
    "            LOB.place_market_sell_order(100)\n",
    "        \n",
    "        # save data\n",
    "        midprice_series.append(calc_midprice(ob))\n",
    "        order_list += executed_orders\n",
    "    \n",
    "    ALL_DATA[sim_data_path] = {'price_series': midprice_series, 'executed_orders': order_list}"
   ]
  },
  {
   "cell_type": "code",
   "execution_count": 9,
   "metadata": {},
   "outputs": [
    {
     "name": "stdout",
     "output_type": "stream",
     "text": [
      "Mean Shortfall: 0.02%\n",
      "StdDev Shortfall: 0.07%\n"
     ]
    }
   ],
   "source": [
    "shortfall_results = []\n",
    "for sim_data_path, sim_results in ALL_DATA.items():\n",
    "    vol_weighted_price_sum = sum([order['volume'] * order['price'] for order in sim_results['executed_orders']])\n",
    "    total_volume = sum([order['volume'] for order in sim_results['executed_orders']])\n",
    "    vwap = vol_weighted_price_sum / total_volume\n",
    "    initial_price = sim_results['price_series'][0]\n",
    "    shortfall = 100 * (vwap - initial_price) / initial_price\n",
    "    shortfall_results.append(shortfall)\n",
    "print(\"Mean Shortfall: {:.2f}%\".format(np.mean(shortfall_results)))\n",
    "print(\"StdDev Shortfall: {:.2f}%\".format(np.std(shortfall_results)))"
   ]
  },
  {
   "cell_type": "code",
   "execution_count": null,
   "metadata": {},
   "outputs": [],
   "source": []
  },
  {
   "cell_type": "code",
   "execution_count": null,
   "metadata": {},
   "outputs": [],
   "source": []
  }
 ],
 "metadata": {
  "kernelspec": {
   "display_name": "Python 3",
   "language": "python",
   "name": "python3"
  },
  "language_info": {
   "codemirror_mode": {
    "name": "ipython",
    "version": 3
   },
   "file_extension": ".py",
   "mimetype": "text/x-python",
   "name": "python",
   "nbconvert_exporter": "python",
   "pygments_lexer": "ipython3",
   "version": "3.7.6"
  }
 },
 "nbformat": 4,
 "nbformat_minor": 4
}

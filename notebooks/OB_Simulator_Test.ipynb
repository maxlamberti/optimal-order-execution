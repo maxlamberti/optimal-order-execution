{
 "cells": [
  {
   "cell_type": "code",
   "execution_count": null,
   "metadata": {},
   "outputs": [],
   "source": [
    "import sys\n",
    "sys.path.append('../')"
   ]
  },
  {
   "cell_type": "code",
   "execution_count": 2,
   "metadata": {},
   "outputs": [],
   "source": [
    "import logging\n",
    "import numpy as np\n",
    "from simulator.lob import OrderBookSimulator"
   ]
  },
  {
   "cell_type": "code",
   "execution_count": 3,
   "metadata": {},
   "outputs": [],
   "source": [
    "logging.getLogger().setLevel(logging.ERROR)"
   ]
  },
  {
   "cell_type": "code",
   "execution_count": 4,
   "metadata": {},
   "outputs": [],
   "source": [
    "TRADES_DATA_PATH = '../data/onetick/cat_trades.csv'\n",
    "OB_DATA_PATH = '../data/onetick/cat_ob_5sec.csv'\n",
    "# OB_DATA_PATH = '../data/feather_onetick/cat/2013-06-20 10:50:00/ob.feather'\n",
    "# TRADES_DATA_PATH = '../data/feather_onetick/cat/2013-06-20 10:50:00/trades.feather'\n",
    "IMPACT_PARAM = 2"
   ]
  },
  {
   "cell_type": "code",
   "execution_count": 5,
   "metadata": {},
   "outputs": [],
   "source": [
    "LOB = OrderBookSimulator(OB_DATA_PATH, TRADES_DATA_PATH, IMPACT_PARAM)"
   ]
  },
  {
   "cell_type": "code",
   "execution_count": 15,
   "metadata": {},
   "outputs": [
    {
     "data": {
      "text/plain": [
       "False"
      ]
     },
     "execution_count": 15,
     "metadata": {},
     "output_type": "execute_result"
    }
   ],
   "source": [
    "ob, trds, executed_orders, active_limit_order_levels = LOB.iterate()\n",
    "midprice = (ob.BID_PRICE.max() + ob.ASK_PRICE.min()) / 2\n",
    "midprice += 0.001\n",
    "midprice\n",
    "midprice -= midprice % 0.01\n",
    "midprice\n",
    "'a' in {'b':1}"
   ]
  },
  {
   "cell_type": "code",
   "execution_count": null,
   "metadata": {},
   "outputs": [],
   "source": []
  },
  {
   "cell_type": "code",
   "execution_count": 7,
   "metadata": {},
   "outputs": [],
   "source": [
    "order_list = []\n",
    "LOB.place_limit_buy_order(100, midprice - 0.04)\n",
    "LOB.place_limit_sell_order(100, midprice + 0.02)\n",
    "for period in range(1, 1000):\n",
    "    ob, trds, executed_orders, active_limit_order_levels = LOB.iterate()\n",
    "    order_list += executed_orders\n",
    "    if not (period % 10):\n",
    "        LOB.place_market_sell_order(100)\n",
    "        \n",
    "        \n",
    "    if np.random.uniform() < 0.01:\n",
    "        # reset experi\n",
    "        "
   ]
  },
  {
   "cell_type": "code",
   "execution_count": 8,
   "metadata": {},
   "outputs": [],
   "source": [
    "vwap = sum([order['volume'] * order['price'] for order in order_list]) / sum([order['volume'] for order in order_list])"
   ]
  },
  {
   "cell_type": "code",
   "execution_count": 9,
   "metadata": {},
   "outputs": [
    {
     "data": {
      "text/plain": [
       "-0.24395235324574865"
      ]
     },
     "execution_count": 9,
     "metadata": {},
     "output_type": "execute_result"
    }
   ],
   "source": [
    "shortfall = 100 * (vwap - midprice) / midprice\n",
    "shortfall"
   ]
  },
  {
   "cell_type": "code",
   "execution_count": null,
   "metadata": {},
   "outputs": [],
   "source": []
  },
  {
   "cell_type": "code",
   "execution_count": null,
   "metadata": {},
   "outputs": [],
   "source": []
  },
  {
   "cell_type": "code",
   "execution_count": 6,
   "metadata": {},
   "outputs": [],
   "source": [
    "calc_midprice = lambda x: (x.BID_PRICE.max() + x.ASK_PRICE.min()) / 2"
   ]
  },
  {
   "cell_type": "code",
   "execution_count": 7,
   "metadata": {},
   "outputs": [],
   "source": [
    "LOB = OrderBookSimulator(OB_DATA_PATH, TRADES_DATA_PATH, IMPACT_PARAM)"
   ]
  },
  {
   "cell_type": "code",
   "execution_count": 8,
   "metadata": {},
   "outputs": [
    {
     "name": "stdout",
     "output_type": "stream",
     "text": [
      "Mid Price: 83.22\n",
      "    LEVEL  ASK_PRICE  BID_PRICE\n",
      "10      1      83.24      83.20\n",
      "11      2      83.25      83.19\n",
      "12      3      83.26      83.18\n",
      "13      4      83.27      83.17\n",
      "14      5      83.28      83.16\n",
      "Executed orders: []\n",
      "{'ASK': [], 'BID': []}\n"
     ]
    }
   ],
   "source": [
    "ob, trds, executed_orders, active_limit_order_levels = LOB.iterate()\n",
    "midprice = calc_midprice(ob)\n",
    "print(\"Mid Price: {}\".format(midprice))\n",
    "print(ob[['LEVEL', 'ASK_PRICE', 'BID_PRICE']])\n",
    "print(\"Executed orders: {}\".format(executed_orders))\n",
    "print(active_limit_order_levels)"
   ]
  },
  {
   "cell_type": "code",
   "execution_count": 9,
   "metadata": {},
   "outputs": [],
   "source": [
    "LOB.place_limit_sell_order_at_tick(100, 1)\n",
    "LOB.place_limit_buy_order_at_tick(100, -1)\n",
    "LOB.place_limit_sell_order_at_tick(100, 2)\n",
    "LOB.place_limit_buy_order_at_tick(100, -2)\n",
    "LOB.place_limit_sell_order_at_tick(100, 3)\n",
    "LOB.place_limit_buy_order_at_tick(100, -3)\n",
    "LOB.place_limit_sell_order_at_tick(100, 4)\n",
    "LOB.place_limit_buy_order_at_tick(100, -4)"
   ]
  },
  {
   "cell_type": "code",
   "execution_count": 22,
   "metadata": {},
   "outputs": [
    {
     "name": "stdout",
     "output_type": "stream",
     "text": [
      "Mid Price: 83.31\n",
      "    LEVEL  ASK_PRICE  BID_PRICE\n",
      "15      1      83.32      83.30\n",
      "16      2      83.34      83.29\n",
      "17      3      83.35      83.28\n",
      "18      4      83.36      83.27\n",
      "19      5      83.37      83.26\n",
      "Executed orders: [{'type': 'limit', 'is_buy': True, 'volume': 100, 'price': 83.33}, {'type': 'limit', 'is_buy': True, 'volume': 100, 'price': 83.32}]\n",
      "{'ASK': [83.35, 83.36, 83.37], 'BID': [83.31, 83.3]}\n"
     ]
    }
   ],
   "source": [
    "ob, trds, executed_orders, active_limit_order_levels = LOB.iterate()\n",
    "midprice = calc_midprice(ob)\n",
    "print(\"Mid Price: {}\".format(midprice))\n",
    "print(ob[['LEVEL', 'ASK_PRICE', 'BID_PRICE']])\n",
    "print(\"Executed orders: {}\".format(executed_orders))\n",
    "print(active_limit_order_levels)"
   ]
  },
  {
   "cell_type": "code",
   "execution_count": 23,
   "metadata": {},
   "outputs": [
    {
     "name": "stdout",
     "output_type": "stream",
     "text": [
      "Mid Price: 83.31\n",
      "    LEVEL  ASK_PRICE  BID_PRICE\n",
      "20      1      83.32      83.30\n",
      "21      2      83.33      83.29\n",
      "22      3      83.34      83.28\n",
      "23      4      83.35      83.27\n",
      "24      5      83.36      83.26\n",
      "Executed orders: []\n",
      "{'ASK': [83.35, 83.36], 'BID': [83.31, 83.3]}\n"
     ]
    }
   ],
   "source": [
    "ob, trds, executed_orders, active_limit_order_levels = LOB.iterate()\n",
    "midprice = calc_midprice(ob)\n",
    "print(\"Mid Price: {}\".format(midprice))\n",
    "print(ob[['LEVEL', 'ASK_PRICE', 'BID_PRICE']])\n",
    "print(\"Executed orders: {}\".format(executed_orders))\n",
    "print(active_limit_order_levels)"
   ]
  },
  {
   "cell_type": "code",
   "execution_count": 24,
   "metadata": {},
   "outputs": [
    {
     "name": "stdout",
     "output_type": "stream",
     "text": [
      "Mid Price: 83.31\n",
      "    LEVEL  ASK_PRICE  BID_PRICE\n",
      "25      1      83.32      83.30\n",
      "26      2      83.33      83.29\n",
      "27      3      83.34      83.28\n",
      "28      4      83.35      83.27\n",
      "29      5      83.36      83.26\n",
      "Executed orders: []\n",
      "{'ASK': [83.35, 83.36], 'BID': [83.31, 83.3]}\n"
     ]
    }
   ],
   "source": [
    "ob, trds, executed_orders, active_limit_order_levels = LOB.iterate()\n",
    "midprice = calc_midprice(ob)\n",
    "print(\"Mid Price: {}\".format(midprice))\n",
    "print(ob[['LEVEL', 'ASK_PRICE', 'BID_PRICE']])\n",
    "print(\"Executed orders: {}\".format(executed_orders))\n",
    "print(active_limit_order_levels)"
   ]
  },
  {
   "cell_type": "code",
   "execution_count": 25,
   "metadata": {},
   "outputs": [
    {
     "name": "stdout",
     "output_type": "stream",
     "text": [
      "Mid Price: 83.335\n",
      "    LEVEL  ASK_PRICE  BID_PRICE\n",
      "30      1      83.35      83.32\n",
      "31      2      83.36      83.31\n",
      "32      3      83.37      83.30\n",
      "33      4      83.38      83.29\n",
      "34      5      83.39      83.28\n",
      "Executed orders: []\n",
      "{'ASK': [83.35, 83.36], 'BID': [83.31, 83.3]}\n",
      "Net buy vol: 300\n"
     ]
    }
   ],
   "source": [
    "ob, trds, executed_orders, active_limit_order_levels = LOB.iterate()\n",
    "midprice = calc_midprice(ob)\n",
    "print(\"Mid Price: {}\".format(midprice))\n",
    "print(ob[['LEVEL', 'ASK_PRICE', 'BID_PRICE']])\n",
    "print(\"Executed orders: {}\".format(executed_orders))\n",
    "print(active_limit_order_levels)\n",
    "print(\"Net buy vol: {}\".format(trds[trds['BUY_SELL_FLAG'] == 1].SIZE.sum()))"
   ]
  },
  {
   "cell_type": "code",
   "execution_count": 26,
   "metadata": {},
   "outputs": [
    {
     "name": "stdout",
     "output_type": "stream",
     "text": [
      "Mid Price: 83.335\n",
      "    LEVEL  ASK_PRICE  BID_PRICE\n",
      "35      1      83.35      83.32\n",
      "36      2      83.36      83.31\n",
      "37      3      83.37      83.30\n",
      "38      4      83.38      83.29\n",
      "39      5      83.39      83.28\n",
      "Executed orders: []\n",
      "{'ASK': [83.35, 83.36], 'BID': [83.31, 83.3]}\n",
      "Net buy vol: 0\n"
     ]
    }
   ],
   "source": [
    "ob, trds, executed_orders, active_limit_order_levels = LOB.iterate()\n",
    "midprice = calc_midprice(ob)\n",
    "print(\"Mid Price: {}\".format(midprice))\n",
    "print(ob[['LEVEL', 'ASK_PRICE', 'BID_PRICE']])\n",
    "print(\"Executed orders: {}\".format(executed_orders))\n",
    "print(active_limit_order_levels)\n",
    "print(\"Net buy vol: {}\".format(trds[trds['BUY_SELL_FLAG'] == 1].SIZE.sum()))"
   ]
  },
  {
   "cell_type": "code",
   "execution_count": 27,
   "metadata": {},
   "outputs": [
    {
     "name": "stdout",
     "output_type": "stream",
     "text": [
      "Mid Price: 83.325\n",
      "    LEVEL  ASK_PRICE  BID_PRICE\n",
      "40      1      83.34      83.31\n",
      "41      2      83.35      83.30\n",
      "42      3      83.36      83.29\n",
      "43      4      83.37      83.28\n",
      "44      5      83.38      83.27\n",
      "Executed orders: []\n",
      "{'ASK': [83.35, 83.36], 'BID': [83.31, 83.3]}\n"
     ]
    }
   ],
   "source": [
    "ob, trds, executed_orders, active_limit_order_levels = LOB.iterate()\n",
    "midprice = calc_midprice(ob)\n",
    "print(\"Mid Price: {}\".format(midprice))\n",
    "print(ob[['LEVEL', 'ASK_PRICE', 'BID_PRICE']])\n",
    "print(\"Executed orders: {}\".format(executed_orders))\n",
    "print(active_limit_order_levels)"
   ]
  },
  {
   "cell_type": "code",
   "execution_count": 28,
   "metadata": {},
   "outputs": [
    {
     "name": "stdout",
     "output_type": "stream",
     "text": [
      "Mid Price: 83.33\n",
      "    LEVEL  ASK_PRICE  BID_PRICE\n",
      "45      1      83.34      83.32\n",
      "46      2      83.35      83.31\n",
      "47      3      83.36      83.30\n",
      "48      4      83.37      83.29\n",
      "49      5      83.38      83.28\n",
      "Executed orders: []\n",
      "{'ASK': [83.35, 83.36], 'BID': [83.31, 83.3]}\n"
     ]
    }
   ],
   "source": [
    "ob, trds, executed_orders, active_limit_order_levels = LOB.iterate()\n",
    "midprice = calc_midprice(ob)\n",
    "print(\"Mid Price: {}\".format(midprice))\n",
    "print(ob[['LEVEL', 'ASK_PRICE', 'BID_PRICE']])\n",
    "print(\"Executed orders: {}\".format(executed_orders))\n",
    "print(active_limit_order_levels)"
   ]
  },
  {
   "cell_type": "code",
   "execution_count": 29,
   "metadata": {},
   "outputs": [
    {
     "name": "stdout",
     "output_type": "stream",
     "text": [
      "Mid Price: 83.35\n",
      "    LEVEL  ASK_PRICE  BID_PRICE\n",
      "50      1      83.36      83.34\n",
      "51      2      83.37      83.33\n",
      "52      3      83.38      83.32\n",
      "53      4      83.39      83.31\n",
      "54      5      83.40      83.30\n",
      "Executed orders: []\n",
      "{'ASK': [83.35, 83.36], 'BID': [83.31, 83.3]}\n"
     ]
    }
   ],
   "source": [
    "ob, trds, executed_orders, active_limit_order_levels = LOB.iterate()\n",
    "midprice = calc_midprice(ob)\n",
    "print(\"Mid Price: {}\".format(midprice))\n",
    "print(ob[['LEVEL', 'ASK_PRICE', 'BID_PRICE']])\n",
    "print(\"Executed orders: {}\".format(executed_orders))\n",
    "print(active_limit_order_levels)"
   ]
  },
  {
   "cell_type": "code",
   "execution_count": 30,
   "metadata": {},
   "outputs": [
    {
     "name": "stdout",
     "output_type": "stream",
     "text": [
      "Mid Price: 83.36\n",
      "    LEVEL  ASK_PRICE  BID_PRICE\n",
      "55      1      83.38      83.34\n",
      "56      2      83.39      83.33\n",
      "57      3      83.40      83.32\n",
      "58      4      83.41      83.31\n",
      "59      5      83.42      83.30\n",
      "Executed orders: []\n",
      "{'ASK': [83.35, 83.36], 'BID': [83.31, 83.3]}\n"
     ]
    }
   ],
   "source": [
    "ob, trds, executed_orders, active_limit_order_levels = LOB.iterate()\n",
    "midprice = calc_midprice(ob)\n",
    "print(\"Mid Price: {}\".format(midprice))\n",
    "print(ob[['LEVEL', 'ASK_PRICE', 'BID_PRICE']])\n",
    "print(\"Executed orders: {}\".format(executed_orders))\n",
    "print(active_limit_order_levels)"
   ]
  },
  {
   "cell_type": "code",
   "execution_count": 31,
   "metadata": {},
   "outputs": [
    {
     "name": "stdout",
     "output_type": "stream",
     "text": [
      "Mid Price: 83.36\n",
      "    LEVEL  ASK_PRICE  BID_PRICE\n",
      "60      1      83.38      83.34\n",
      "61      2      83.39      83.33\n",
      "62      3      83.40      83.32\n",
      "63      4      83.41      83.31\n",
      "64      5      83.42      83.30\n",
      "Executed orders: []\n",
      "{'ASK': [83.35, 83.36], 'BID': [83.31, 83.3]}\n"
     ]
    }
   ],
   "source": [
    "ob, trds, executed_orders, active_limit_order_levels = LOB.iterate()\n",
    "midprice = calc_midprice(ob)\n",
    "print(\"Mid Price: {}\".format(midprice))\n",
    "print(ob[['LEVEL', 'ASK_PRICE', 'BID_PRICE']])\n",
    "print(\"Executed orders: {}\".format(executed_orders))\n",
    "print(active_limit_order_levels)"
   ]
  },
  {
   "cell_type": "code",
   "execution_count": 32,
   "metadata": {},
   "outputs": [
    {
     "name": "stdout",
     "output_type": "stream",
     "text": [
      "Mid Price: 83.365\n",
      "    LEVEL  ASK_PRICE  BID_PRICE\n",
      "65      1      83.38      83.35\n",
      "66      2      83.39      83.34\n",
      "67      3      83.40      83.33\n",
      "68      4      83.41      83.32\n",
      "69      5      83.42      83.31\n",
      "Executed orders: [{'type': 'limit', 'is_buy': False, 'volume': 100, 'price': 83.35}]\n",
      "{'ASK': [83.36], 'BID': [83.31]}\n"
     ]
    }
   ],
   "source": [
    "ob, trds, executed_orders, active_limit_order_levels = LOB.iterate()\n",
    "midprice = calc_midprice(ob)\n",
    "print(\"Mid Price: {}\".format(midprice))\n",
    "print(ob[['LEVEL', 'ASK_PRICE', 'BID_PRICE']])\n",
    "print(\"Executed orders: {}\".format(executed_orders))\n",
    "print(active_limit_order_levels)"
   ]
  },
  {
   "cell_type": "code",
   "execution_count": 33,
   "metadata": {},
   "outputs": [
    {
     "name": "stdout",
     "output_type": "stream",
     "text": [
      "Mid Price: 83.365\n",
      "    LEVEL  ASK_PRICE  BID_PRICE\n",
      "70      1      83.38      83.35\n",
      "71      2      83.39      83.34\n",
      "72      3      83.40      83.33\n",
      "73      4      83.41      83.32\n",
      "74      5      83.42      83.31\n",
      "Executed orders: []\n",
      "{'ASK': [83.36], 'BID': [83.31]}\n"
     ]
    }
   ],
   "source": [
    "ob, trds, executed_orders, active_limit_order_levels = LOB.iterate()\n",
    "midprice = calc_midprice(ob)\n",
    "print(\"Mid Price: {}\".format(midprice))\n",
    "print(ob[['LEVEL', 'ASK_PRICE', 'BID_PRICE']])\n",
    "print(\"Executed orders: {}\".format(executed_orders))\n",
    "print(active_limit_order_levels)"
   ]
  },
  {
   "cell_type": "code",
   "execution_count": 34,
   "metadata": {},
   "outputs": [
    {
     "name": "stdout",
     "output_type": "stream",
     "text": [
      "Mid Price: 83.36\n",
      "    LEVEL  ASK_PRICE  BID_PRICE\n",
      "75      1      83.37      83.35\n",
      "76      2      83.38      83.34\n",
      "77      3      83.39      83.33\n",
      "78      4      83.40      83.32\n",
      "79      5      83.41      83.31\n",
      "Executed orders: []\n",
      "{'ASK': [83.36], 'BID': [83.31]}\n"
     ]
    }
   ],
   "source": [
    "ob, trds, executed_orders, active_limit_order_levels = LOB.iterate()\n",
    "midprice = calc_midprice(ob)\n",
    "print(\"Mid Price: {}\".format(midprice))\n",
    "print(ob[['LEVEL', 'ASK_PRICE', 'BID_PRICE']])\n",
    "print(\"Executed orders: {}\".format(executed_orders))\n",
    "print(active_limit_order_levels)"
   ]
  },
  {
   "cell_type": "code",
   "execution_count": 35,
   "metadata": {},
   "outputs": [
    {
     "name": "stdout",
     "output_type": "stream",
     "text": [
      "Mid Price: 83.36\n",
      "    LEVEL  ASK_PRICE  BID_PRICE\n",
      "80      1      83.37      83.35\n",
      "81      2      83.38      83.34\n",
      "82      3      83.39      83.33\n",
      "83      4      83.40      83.32\n",
      "84      5      83.41      83.31\n",
      "Executed orders: []\n",
      "{'ASK': [83.36], 'BID': [83.31]}\n"
     ]
    }
   ],
   "source": [
    "ob, trds, executed_orders, active_limit_order_levels = LOB.iterate()\n",
    "midprice = calc_midprice(ob)\n",
    "print(\"Mid Price: {}\".format(midprice))\n",
    "print(ob[['LEVEL', 'ASK_PRICE', 'BID_PRICE']])\n",
    "print(\"Executed orders: {}\".format(executed_orders))\n",
    "print(active_limit_order_levels)"
   ]
  },
  {
   "cell_type": "code",
   "execution_count": 36,
   "metadata": {},
   "outputs": [
    {
     "name": "stdout",
     "output_type": "stream",
     "text": [
      "Mid Price: 83.36\n",
      "    LEVEL  ASK_PRICE  BID_PRICE\n",
      "85      1      83.37      83.35\n",
      "86      2      83.38      83.34\n",
      "87      3      83.39      83.33\n",
      "88      4      83.40      83.32\n",
      "89      5      83.41      83.31\n",
      "Executed orders: []\n",
      "{'ASK': [83.36], 'BID': [83.31]}\n"
     ]
    }
   ],
   "source": [
    "ob, trds, executed_orders, active_limit_order_levels = LOB.iterate()\n",
    "midprice = calc_midprice(ob)\n",
    "print(\"Mid Price: {}\".format(midprice))\n",
    "print(ob[['LEVEL', 'ASK_PRICE', 'BID_PRICE']])\n",
    "print(\"Executed orders: {}\".format(executed_orders))\n",
    "print(active_limit_order_levels)"
   ]
  },
  {
   "cell_type": "code",
   "execution_count": 37,
   "metadata": {},
   "outputs": [
    {
     "name": "stdout",
     "output_type": "stream",
     "text": [
      "Mid Price: 83.345\n",
      "    LEVEL  ASK_PRICE  BID_PRICE\n",
      "90      1      83.35      83.34\n",
      "91      2      83.36      83.33\n",
      "92      3      83.37      83.32\n",
      "93      4      83.38      83.31\n",
      "94      5      83.39      83.30\n",
      "Executed orders: [{'type': 'limit', 'is_buy': True, 'volume': 100, 'price': 83.31}, {'type': 'limit', 'is_buy': False, 'volume': 100, 'price': 83.36}]\n",
      "{'ASK': [], 'BID': []}\n",
      "Net buy vol: 173\n"
     ]
    }
   ],
   "source": [
    "ob, trds, executed_orders, active_limit_order_levels = LOB.iterate()\n",
    "midprice = calc_midprice(ob)\n",
    "print(\"Mid Price: {}\".format(midprice))\n",
    "print(ob[['LEVEL', 'ASK_PRICE', 'BID_PRICE']])\n",
    "print(\"Executed orders: {}\".format(executed_orders))\n",
    "print(active_limit_order_levels)\n",
    "print(\"Net buy vol: {}\".format(trds[trds['BUY_SELL_FLAG'] == 1].SIZE.sum()))"
   ]
  },
  {
   "cell_type": "code",
   "execution_count": 38,
   "metadata": {},
   "outputs": [
    {
     "name": "stdout",
     "output_type": "stream",
     "text": [
      "Mid Price: 83.345\n",
      "    LEVEL  ASK_PRICE  BID_PRICE\n",
      "95      1      83.35      83.34\n",
      "96      2      83.36      83.33\n",
      "97      3      83.37      83.32\n",
      "98      4      83.38      83.31\n",
      "99      5      83.39      83.30\n",
      "Executed orders: []\n",
      "{'ASK': [], 'BID': []}\n",
      "Net buy vol: 0\n"
     ]
    }
   ],
   "source": [
    "ob, trds, executed_orders, active_limit_order_levels = LOB.iterate()\n",
    "midprice = calc_midprice(ob)\n",
    "print(\"Mid Price: {}\".format(midprice))\n",
    "print(ob[['LEVEL', 'ASK_PRICE', 'BID_PRICE']])\n",
    "print(\"Executed orders: {}\".format(executed_orders))\n",
    "print(active_limit_order_levels)\n",
    "print(\"Net buy vol: {}\".format(trds[trds['BUY_SELL_FLAG'] == 1].SIZE.sum()))"
   ]
  },
  {
   "cell_type": "code",
   "execution_count": 52,
   "metadata": {},
   "outputs": [
    {
     "name": "stdout",
     "output_type": "stream",
     "text": [
      "{83.35: 100, 83.36: 0, 83.37: 0, 83.38: 0, 83.39: 0}\n",
      "Mid Price: 83.365\n",
      "     LEVEL  ASK_PRICE  BID_PRICE\n",
      "100      1      83.38      83.35\n",
      "101      2      83.39      83.34\n",
      "102      3      83.40      83.33\n",
      "103      4      83.41      83.32\n",
      "104      5      83.42      83.31\n",
      "Executed orders: []\n",
      "{'ASK': [83.36], 'BID': []}\n",
      "Net buy vol: 100\n"
     ]
    }
   ],
   "source": [
    "ob, trds, executed_orders, active_limit_order_levels = LOB.iterate()\n",
    "midprice = calc_midprice(ob)\n",
    "print(\"Mid Price: {}\".format(midprice))\n",
    "print(ob[['LEVEL', 'ASK_PRICE', 'BID_PRICE']])\n",
    "print(\"Executed orders: {}\".format(executed_orders))\n",
    "print(active_limit_order_levels)\n",
    "print(\"Net buy vol: {}\".format(trds[trds['BUY_SELL_FLAG'] == 1].SIZE.sum()))"
   ]
  },
  {
   "cell_type": "code",
   "execution_count": 53,
   "metadata": {},
   "outputs": [
    {
     "name": "stdout",
     "output_type": "stream",
     "text": [
      "Mid Price: 83.365\n",
      "     LEVEL  ASK_PRICE  BID_PRICE\n",
      "105      1      83.38      83.35\n",
      "106      2      83.39      83.34\n",
      "107      3      83.40      83.33\n",
      "108      4      83.41      83.32\n",
      "109      5      83.42      83.31\n",
      "Executed orders: []\n",
      "{'ASK': [83.36], 'BID': []}\n",
      "Net buy vol: 0\n"
     ]
    }
   ],
   "source": [
    "ob, trds, executed_orders, active_limit_order_levels = LOB.iterate()\n",
    "midprice = calc_midprice(ob)\n",
    "print(\"Mid Price: {}\".format(midprice))\n",
    "print(ob[['LEVEL', 'ASK_PRICE', 'BID_PRICE']])\n",
    "print(\"Executed orders: {}\".format(executed_orders))\n",
    "print(active_limit_order_levels)\n",
    "print(\"Net buy vol: {}\".format(trds[trds['BUY_SELL_FLAG'] == 1].SIZE.sum()))"
   ]
  },
  {
   "cell_type": "code",
   "execution_count": 54,
   "metadata": {},
   "outputs": [
    {
     "name": "stdout",
     "output_type": "stream",
     "text": [
      "Mid Price: 83.365\n",
      "     LEVEL  ASK_PRICE  BID_PRICE\n",
      "110      1      83.38      83.35\n",
      "111      2      83.39      83.34\n",
      "112      3      83.40      83.33\n",
      "113      4      83.41      83.32\n",
      "114      5      83.42      83.31\n",
      "Executed orders: []\n",
      "{'ASK': [83.36], 'BID': []}\n",
      "Net buy vol: 0\n"
     ]
    }
   ],
   "source": [
    "ob, trds, executed_orders, active_limit_order_levels = LOB.iterate()\n",
    "midprice = calc_midprice(ob)\n",
    "print(\"Mid Price: {}\".format(midprice))\n",
    "print(ob[['LEVEL', 'ASK_PRICE', 'BID_PRICE']])\n",
    "print(\"Executed orders: {}\".format(executed_orders))\n",
    "print(active_limit_order_levels)\n",
    "print(\"Net buy vol: {}\".format(trds[trds['BUY_SELL_FLAG'] == 1].SIZE.sum()))"
   ]
  },
  {
   "cell_type": "code",
   "execution_count": 55,
   "metadata": {},
   "outputs": [
    {
     "name": "stdout",
     "output_type": "stream",
     "text": [
      "Mid Price: 83.395\n",
      "     LEVEL  ASK_PRICE  BID_PRICE\n",
      "115      1      83.41      83.38\n",
      "116      2      83.42      83.37\n",
      "117      3      83.43      83.36\n",
      "118      4      83.44      83.35\n",
      "119      5      83.45      83.34\n",
      "Executed orders: [{'type': 'limit', 'is_buy': False, 'volume': 715, 'price': 83.36}]\n",
      "{'ASK': [83.36], 'BID': []}\n"
     ]
    }
   ],
   "source": [
    "ob, trds, executed_orders, active_limit_order_levels = LOB.iterate()\n",
    "midprice = calc_midprice(ob)\n",
    "print(\"Mid Price: {}\".format(midprice))\n",
    "print(ob[['LEVEL', 'ASK_PRICE', 'BID_PRICE']])\n",
    "print(\"Executed orders: {}\".format(executed_orders))\n",
    "print(active_limit_order_levels)"
   ]
  },
  {
   "cell_type": "code",
   "execution_count": 57,
   "metadata": {},
   "outputs": [
    {
     "name": "stdout",
     "output_type": "stream",
     "text": [
      "{83.36: 16, 83.41: 0, 83.42: 0, 83.43: 0, 83.44: 0, 83.45: 0}\n",
      "Mid Price: 83.405\n",
      "     LEVEL  ASK_PRICE  BID_PRICE\n",
      "120      1      83.42      83.39\n",
      "121      2      83.43      83.38\n",
      "122      3      83.44      83.37\n",
      "123      4      83.45      83.36\n",
      "124      5      83.46      83.35\n",
      "Executed orders: [{'type': 'limit', 'is_buy': False, 'volume': 16, 'price': 83.36}, {'type': 'limit', 'is_buy': False, 'volume': 396, 'price': 83.36}]\n",
      "{'ASK': [], 'BID': []}\n"
     ]
    }
   ],
   "source": [
    "ob, trds, executed_orders, active_limit_order_levels = LOB.iterate()\n",
    "midprice = calc_midprice(ob)\n",
    "print(\"Mid Price: {}\".format(midprice))\n",
    "print(ob[['LEVEL', 'ASK_PRICE', 'BID_PRICE']])\n",
    "print(\"Executed orders: {}\".format(executed_orders))\n",
    "print(active_limit_order_levels)"
   ]
  },
  {
   "cell_type": "code",
   "execution_count": 58,
   "metadata": {},
   "outputs": [
    {
     "name": "stdout",
     "output_type": "stream",
     "text": [
      "Mid Price: 83.42500000000001\n",
      "     LEVEL  ASK_PRICE  BID_PRICE\n",
      "125      1      83.45      83.40\n",
      "126      2      83.46      83.39\n",
      "127      3      83.47      83.38\n",
      "128      4      83.48      83.37\n",
      "129      5      83.49      83.36\n",
      "Executed orders: []\n",
      "{'ASK': [], 'BID': []}\n"
     ]
    }
   ],
   "source": [
    "ob, trds, executed_orders, active_limit_order_levels = LOB.iterate()\n",
    "midprice = calc_midprice(ob)\n",
    "print(\"Mid Price: {}\".format(midprice))\n",
    "print(ob[['LEVEL', 'ASK_PRICE', 'BID_PRICE']])\n",
    "print(\"Executed orders: {}\".format(executed_orders))\n",
    "print(active_limit_order_levels)"
   ]
  },
  {
   "cell_type": "code",
   "execution_count": 61,
   "metadata": {},
   "outputs": [
    {
     "name": "stdout",
     "output_type": "stream",
     "text": [
      "Mid Price: 83.42500000000001\n",
      "     LEVEL  ASK_PRICE  BID_PRICE\n",
      "130      1      83.45      83.40\n",
      "131      2      83.46      83.39\n",
      "132      3      83.47      83.38\n",
      "133      4      83.48      83.37\n",
      "134      5      83.49      83.36\n",
      "Executed orders: []\n",
      "{'ASK': [], 'BID': []}\n"
     ]
    }
   ],
   "source": [
    "ob, trds, executed_orders, active_limit_order_levels = LOB.iterate()\n",
    "midprice = calc_midprice(ob)\n",
    "print(\"Mid Price: {}\".format(midprice))\n",
    "print(ob[['LEVEL', 'ASK_PRICE', 'BID_PRICE']])\n",
    "print(\"Executed orders: {}\".format(executed_orders))\n",
    "print(active_limit_order_levels)"
   ]
  },
  {
   "cell_type": "code",
   "execution_count": 62,
   "metadata": {},
   "outputs": [
    {
     "name": "stdout",
     "output_type": "stream",
     "text": [
      "Mid Price: 83.42500000000001\n",
      "     LEVEL  ASK_PRICE  BID_PRICE\n",
      "135      1      83.43      83.42\n",
      "136      2      83.45      83.41\n",
      "137      3      83.46      83.40\n",
      "138      4      83.47      83.39\n",
      "139      5      83.48      83.38\n",
      "Executed orders: []\n",
      "{'ASK': [], 'BID': []}\n"
     ]
    }
   ],
   "source": [
    "ob, trds, executed_orders, active_limit_order_levels = LOB.iterate()\n",
    "midprice = calc_midprice(ob)\n",
    "print(\"Mid Price: {}\".format(midprice))\n",
    "print(ob[['LEVEL', 'ASK_PRICE', 'BID_PRICE']])\n",
    "print(\"Executed orders: {}\".format(executed_orders))\n",
    "print(active_limit_order_levels)"
   ]
  },
  {
   "cell_type": "code",
   "execution_count": 63,
   "metadata": {},
   "outputs": [
    {
     "name": "stdout",
     "output_type": "stream",
     "text": [
      "Mid Price: 83.385\n",
      "     LEVEL  ASK_PRICE  BID_PRICE\n",
      "140      1      83.40      83.37\n",
      "141      2      83.41      83.36\n",
      "142      3      83.42      83.35\n",
      "143      4      83.43      83.34\n",
      "144      5      83.44      83.33\n",
      "Executed orders: []\n",
      "{'ASK': [], 'BID': []}\n"
     ]
    }
   ],
   "source": [
    "ob, trds, executed_orders, active_limit_order_levels = LOB.iterate()\n",
    "midprice = calc_midprice(ob)\n",
    "print(\"Mid Price: {}\".format(midprice))\n",
    "print(ob[['LEVEL', 'ASK_PRICE', 'BID_PRICE']])\n",
    "print(\"Executed orders: {}\".format(executed_orders))\n",
    "print(active_limit_order_levels)"
   ]
  },
  {
   "cell_type": "code",
   "execution_count": 64,
   "metadata": {},
   "outputs": [
    {
     "name": "stdout",
     "output_type": "stream",
     "text": [
      "Mid Price: 83.375\n",
      "     LEVEL  ASK_PRICE  BID_PRICE\n",
      "145      1      83.39      83.36\n",
      "146      2      83.40      83.35\n",
      "147      3      83.41      83.34\n",
      "148      4      83.42      83.33\n",
      "149      5      83.43      83.32\n",
      "Executed orders: []\n",
      "{'ASK': [], 'BID': []}\n"
     ]
    }
   ],
   "source": [
    "ob, trds, executed_orders, active_limit_order_levels = LOB.iterate()\n",
    "midprice = calc_midprice(ob)\n",
    "print(\"Mid Price: {}\".format(midprice))\n",
    "print(ob[['LEVEL', 'ASK_PRICE', 'BID_PRICE']])\n",
    "print(\"Executed orders: {}\".format(executed_orders))\n",
    "print(active_limit_order_levels)"
   ]
  },
  {
   "cell_type": "code",
   "execution_count": 65,
   "metadata": {},
   "outputs": [
    {
     "name": "stdout",
     "output_type": "stream",
     "text": [
      "Mid Price: 83.385\n",
      "     LEVEL  ASK_PRICE  BID_PRICE\n",
      "150      1      83.40      83.37\n",
      "151      2      83.41      83.36\n",
      "152      3      83.42      83.35\n",
      "153      4      83.43      83.34\n",
      "154      5      83.44      83.33\n",
      "Executed orders: []\n",
      "{'ASK': [], 'BID': []}\n"
     ]
    }
   ],
   "source": [
    "ob, trds, executed_orders, active_limit_order_levels = LOB.iterate()\n",
    "midprice = calc_midprice(ob)\n",
    "print(\"Mid Price: {}\".format(midprice))\n",
    "print(ob[['LEVEL', 'ASK_PRICE', 'BID_PRICE']])\n",
    "print(\"Executed orders: {}\".format(executed_orders))\n",
    "print(active_limit_order_levels)"
   ]
  },
  {
   "cell_type": "code",
   "execution_count": 66,
   "metadata": {},
   "outputs": [
    {
     "name": "stdout",
     "output_type": "stream",
     "text": [
      "Mid Price: 83.405\n",
      "     LEVEL  ASK_PRICE  BID_PRICE\n",
      "155      1      83.42      83.39\n",
      "156      2      83.43      83.37\n",
      "157      3      83.44      83.36\n",
      "158      4      83.45      83.35\n",
      "159      5      83.46      83.34\n",
      "Executed orders: []\n",
      "{'ASK': [], 'BID': []}\n"
     ]
    }
   ],
   "source": [
    "ob, trds, executed_orders, active_limit_order_levels = LOB.iterate()\n",
    "midprice = calc_midprice(ob)\n",
    "print(\"Mid Price: {}\".format(midprice))\n",
    "print(ob[['LEVEL', 'ASK_PRICE', 'BID_PRICE']])\n",
    "print(\"Executed orders: {}\".format(executed_orders))\n",
    "print(active_limit_order_levels)"
   ]
  },
  {
   "cell_type": "code",
   "execution_count": 67,
   "metadata": {},
   "outputs": [
    {
     "name": "stdout",
     "output_type": "stream",
     "text": [
      "Mid Price: 83.38\n",
      "     LEVEL  ASK_PRICE  BID_PRICE\n",
      "160      1      83.40      83.36\n",
      "161      2      83.41      83.35\n",
      "162      3      83.42      83.34\n",
      "163      4      83.43      83.33\n",
      "164      5      83.44      83.32\n",
      "Executed orders: []\n",
      "{'ASK': [], 'BID': []}\n"
     ]
    }
   ],
   "source": [
    "ob, trds, executed_orders, active_limit_order_levels = LOB.iterate()\n",
    "midprice = calc_midprice(ob)\n",
    "print(\"Mid Price: {}\".format(midprice))\n",
    "print(ob[['LEVEL', 'ASK_PRICE', 'BID_PRICE']])\n",
    "print(\"Executed orders: {}\".format(executed_orders))\n",
    "print(active_limit_order_levels)"
   ]
  },
  {
   "cell_type": "code",
   "execution_count": 68,
   "metadata": {},
   "outputs": [
    {
     "name": "stdout",
     "output_type": "stream",
     "text": [
      "Mid Price: 83.375\n",
      "     LEVEL  ASK_PRICE  BID_PRICE\n",
      "165      1      83.38      83.37\n",
      "166      2      83.40      83.36\n",
      "167      3      83.41      83.35\n",
      "168      4      83.42      83.34\n",
      "169      5      83.43      83.33\n",
      "Executed orders: []\n",
      "{'ASK': [], 'BID': []}\n"
     ]
    }
   ],
   "source": [
    "ob, trds, executed_orders, active_limit_order_levels = LOB.iterate()\n",
    "midprice = calc_midprice(ob)\n",
    "print(\"Mid Price: {}\".format(midprice))\n",
    "print(ob[['LEVEL', 'ASK_PRICE', 'BID_PRICE']])\n",
    "print(\"Executed orders: {}\".format(executed_orders))\n",
    "print(active_limit_order_levels)"
   ]
  },
  {
   "cell_type": "code",
   "execution_count": 69,
   "metadata": {},
   "outputs": [
    {
     "name": "stdout",
     "output_type": "stream",
     "text": [
      "Mid Price: 83.375\n",
      "     LEVEL  ASK_PRICE  BID_PRICE\n",
      "170      1      83.38      83.37\n",
      "171      2      83.40      83.36\n",
      "172      3      83.41      83.35\n",
      "173      4      83.42      83.34\n",
      "174      5      83.43      83.33\n",
      "Executed orders: []\n",
      "{'ASK': [], 'BID': []}\n"
     ]
    }
   ],
   "source": [
    "ob, trds, executed_orders, active_limit_order_levels = LOB.iterate()\n",
    "midprice = calc_midprice(ob)\n",
    "print(\"Mid Price: {}\".format(midprice))\n",
    "print(ob[['LEVEL', 'ASK_PRICE', 'BID_PRICE']])\n",
    "print(\"Executed orders: {}\".format(executed_orders))\n",
    "print(active_limit_order_levels)"
   ]
  },
  {
   "cell_type": "code",
   "execution_count": 70,
   "metadata": {},
   "outputs": [
    {
     "name": "stdout",
     "output_type": "stream",
     "text": [
      "Mid Price: 83.385\n",
      "     LEVEL  ASK_PRICE  BID_PRICE\n",
      "175      1      83.40      83.37\n",
      "176      2      83.41      83.36\n",
      "177      3      83.42      83.35\n",
      "178      4      83.43      83.34\n",
      "179      5      83.44      83.33\n",
      "Executed orders: []\n",
      "{'ASK': [], 'BID': []}\n"
     ]
    }
   ],
   "source": [
    "ob, trds, executed_orders, active_limit_order_levels = LOB.iterate()\n",
    "midprice = calc_midprice(ob)\n",
    "print(\"Mid Price: {}\".format(midprice))\n",
    "print(ob[['LEVEL', 'ASK_PRICE', 'BID_PRICE']])\n",
    "print(\"Executed orders: {}\".format(executed_orders))\n",
    "print(active_limit_order_levels)"
   ]
  },
  {
   "cell_type": "code",
   "execution_count": 71,
   "metadata": {},
   "outputs": [
    {
     "name": "stdout",
     "output_type": "stream",
     "text": [
      "Mid Price: 83.34\n",
      "     LEVEL  ASK_PRICE  BID_PRICE\n",
      "180      1      83.35      83.33\n",
      "181      2      83.36      83.32\n",
      "182      3      83.37      83.31\n",
      "183      4      83.38      83.30\n",
      "184      5      83.39      83.29\n",
      "Executed orders: []\n",
      "{'ASK': [], 'BID': []}\n"
     ]
    }
   ],
   "source": [
    "ob, trds, executed_orders, active_limit_order_levels = LOB.iterate()\n",
    "midprice = calc_midprice(ob)\n",
    "print(\"Mid Price: {}\".format(midprice))\n",
    "print(ob[['LEVEL', 'ASK_PRICE', 'BID_PRICE']])\n",
    "print(\"Executed orders: {}\".format(executed_orders))\n",
    "print(active_limit_order_levels)"
   ]
  },
  {
   "cell_type": "code",
   "execution_count": 72,
   "metadata": {},
   "outputs": [
    {
     "name": "stdout",
     "output_type": "stream",
     "text": [
      "Mid Price: 83.34\n",
      "     LEVEL  ASK_PRICE  BID_PRICE\n",
      "185      1      83.35      83.33\n",
      "186      2      83.36      83.32\n",
      "187      3      83.37      83.31\n",
      "188      4      83.38      83.30\n",
      "189      5      83.39      83.29\n",
      "Executed orders: []\n",
      "{'ASK': [], 'BID': []}\n"
     ]
    }
   ],
   "source": [
    "ob, trds, executed_orders, active_limit_order_levels = LOB.iterate()\n",
    "midprice = calc_midprice(ob)\n",
    "print(\"Mid Price: {}\".format(midprice))\n",
    "print(ob[['LEVEL', 'ASK_PRICE', 'BID_PRICE']])\n",
    "print(\"Executed orders: {}\".format(executed_orders))\n",
    "print(active_limit_order_levels)"
   ]
  },
  {
   "cell_type": "code",
   "execution_count": null,
   "metadata": {},
   "outputs": [],
   "source": [
    "ob, trds, executed_orders, active_limit_order_levels = LOB.iterate()\n",
    "midprice = calc_midprice(ob)\n",
    "print(\"Mid Price: {}\".format(midprice))\n",
    "print(ob[['LEVEL', 'ASK_PRICE', 'BID_PRICE']])\n",
    "print(\"Executed orders: {}\".format(executed_orders))\n",
    "print(active_limit_order_levels)"
   ]
  }
 ],
 "metadata": {
  "kernelspec": {
   "display_name": "Python 3",
   "language": "python",
   "name": "python3"
  },
  "language_info": {
   "codemirror_mode": {
    "name": "ipython",
    "version": 3
   },
   "file_extension": ".py",
   "mimetype": "text/x-python",
   "name": "python",
   "nbconvert_exporter": "python",
   "pygments_lexer": "ipython3",
   "version": "3.6.8"
  }
 },
 "nbformat": 4,
 "nbformat_minor": 2
}

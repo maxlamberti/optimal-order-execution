{
 "cells": [
  {
   "cell_type": "code",
   "execution_count": 1,
   "metadata": {},
   "outputs": [],
   "source": [
    "import sys\n",
    "sys.path.append('../')"
   ]
  },
  {
   "cell_type": "code",
   "execution_count": 2,
   "metadata": {},
   "outputs": [],
   "source": [
    "import logging\n",
    "from simulator.lob import OrderBookSimulator"
   ]
  },
  {
   "cell_type": "code",
   "execution_count": 3,
   "metadata": {},
   "outputs": [],
   "source": [
    "logging.getLogger().setLevel(logging.ERROR)"
   ]
  },
  {
   "cell_type": "code",
   "execution_count": 4,
   "metadata": {},
   "outputs": [],
   "source": [
    "TRADES_DATA_PATH = '../data/onetick/cat_trades.csv'\n",
    "OB_DATA_PATH = '../data/onetick/cat_ob_5sec.csv'\n",
    "IMPACT_PARAM = 2"
   ]
  },
  {
   "cell_type": "code",
   "execution_count": 5,
   "metadata": {},
   "outputs": [],
   "source": [
    "LOB = OrderBookSimulator(OB_DATA_PATH, TRADES_DATA_PATH, IMPACT_PARAM)"
   ]
  },
  {
   "cell_type": "code",
   "execution_count": 6,
   "metadata": {},
   "outputs": [],
   "source": [
    "ob, trds, executed_orders, active_limit_order_levels = LOB.iterate()\n",
    "midprice = (ob.BID_PRICE.max() + ob.ASK_PRICE.min()) / 2"
   ]
  },
  {
   "cell_type": "code",
   "execution_count": 7,
   "metadata": {},
   "outputs": [],
   "source": [
    "order_list = []\n",
    "LOB.place_limit_buy_order(100, midprice - 0.04)\n",
    "LOB.place_limit_sell_order(100, midprice + 0.02)\n",
    "for period in range(1, 1000):\n",
    "    ob, trds, executed_orders, active_limit_order_levels = LOB.iterate()\n",
    "    order_list += executed_orders\n",
    "    if not (period % 10):\n",
    "        LOB.place_market_sell_order(100)"
   ]
  },
  {
   "cell_type": "code",
   "execution_count": 8,
   "metadata": {},
   "outputs": [],
   "source": [
    "vwap = sum([order['volume'] * order['price'] for order in order_list]) / sum([order['volume'] for order in order_list])"
   ]
  },
  {
   "cell_type": "code",
   "execution_count": 9,
   "metadata": {},
   "outputs": [
    {
     "data": {
      "text/plain": [
       "-0.24395235324574865"
      ]
     },
     "execution_count": 9,
     "metadata": {},
     "output_type": "execute_result"
    }
   ],
   "source": [
    "shortfall = 100 * (vwap - midprice) / midprice\n",
    "shortfall"
   ]
  },
  {
   "cell_type": "code",
   "execution_count": null,
   "metadata": {},
   "outputs": [],
   "source": []
  },
  {
   "cell_type": "code",
   "execution_count": null,
   "metadata": {},
   "outputs": [],
   "source": []
  }
 ],
 "metadata": {
  "kernelspec": {
   "display_name": "Python 3",
   "language": "python",
   "name": "python3"
  },
  "language_info": {
   "codemirror_mode": {
    "name": "ipython",
    "version": 3
   },
   "file_extension": ".py",
   "mimetype": "text/x-python",
   "name": "python",
   "nbconvert_exporter": "python",
   "pygments_lexer": "ipython3",
   "version": "3.6.8"
  }
 },
 "nbformat": 4,
 "nbformat_minor": 2
}

{
 "cells": [
  {
   "cell_type": "code",
   "execution_count": 1,
   "metadata": {},
   "outputs": [
    {
     "name": "stderr",
     "output_type": "stream",
     "text": [
      "D:\\Coding\\Anaconda3\\lib\\site-packages\\h5py\\__init__.py:36: FutureWarning: Conversion of the second argument of issubdtype from `float` to `np.floating` is deprecated. In future, it will be treated as `np.float64 == np.dtype(float).type`.\n",
      "  from ._conv import register_converters as _register_converters\n"
     ]
    }
   ],
   "source": [
    "from stable_baselines import PPO2, logger\n",
    "from stable_baselines.common.cmd_util import make_atari_env, atari_arg_parser\n",
    "from stable_baselines.common.vec_env import VecFrameStack\n",
    "from stable_baselines.common.policies import CnnPolicy, CnnLstmPolicy, CnnLnLstmPolicy, MlpPolicy"
   ]
  },
  {
   "cell_type": "code",
   "execution_count": 2,
   "metadata": {},
   "outputs": [],
   "source": [
    "def train(env_param, num_timesteps, seed, policy,\n",
    "          n_envs=8, nminibatches=4, n_steps=128):\n",
    "    \"\"\"\n",
    "    :param env_param: the environment params at init\n",
    "    :param num_timesteps: (int) the number of timesteps to run\n",
    "    :param seed: (int) Used to seed the random generator.\n",
    "    :param policy: (Object) The policy model to use (MLP, CNN, LSTM, ...)\n",
    "    :param n_envs: (int) Number of parallel environments\n",
    "    :param nminibatches: (int) Number of training minibatches per update. For recurrent policies,\n",
    "        the number of environments run in parallel should be a multiple of nminibatches.\n",
    "    :param n_steps: (int) The number of steps to run for each environment per update\n",
    "        (i.e. batch size is n_steps * n_env where n_env is number of environment copies running in parallel)\n",
    "    \"\"\"\n",
    "\n",
    "    # env = VecFrameStack(TraderEnv(env_param),4) # If using stacking\n",
    "    env = TraderEnv(env_param)\n",
    "    policy = {'cnn': CnnPolicy, 'lstm': CnnLstmPolicy, 'lnlstm': CnnLnLstmPolicy, 'mlp': MlpPolicy}[policy]\n",
    "    model = PPO2(policy=policy, env=env, n_steps=n_steps, nminibatches=nminibatches,\n",
    "                 lam=0.95, gamma=0.99, noptepochs=4, ent_coef=.01,\n",
    "                 learning_rate=lambda f: f * 2.5e-4, cliprange=lambda f: f * 0.1, verbose=1)\n",
    "    model.learn(total_timesteps=num_timesteps)\n",
    "\n",
    "    env.close()\n",
    "    # Free memory\n",
    "    del model\n"
   ]
  },
  {
   "cell_type": "code",
   "execution_count": null,
   "metadata": {},
   "outputs": [],
   "source": [
    "train('foo',100,23,'mlp')"
   ]
  }
 ],
 "metadata": {
  "kernelspec": {
   "display_name": "Python 3",
   "language": "python",
   "name": "python3"
  },
  "language_info": {
   "codemirror_mode": {
    "name": "ipython",
    "version": 3
   },
   "file_extension": ".py",
   "mimetype": "text/x-python",
   "name": "python",
   "nbconvert_exporter": "python",
   "pygments_lexer": "ipython3",
   "version": "3.6.4"
  }
 },
 "nbformat": 4,
 "nbformat_minor": 2
}

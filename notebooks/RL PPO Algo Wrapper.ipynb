{
 "cells": [
  {
   "cell_type": "code",
   "execution_count": 1,
   "metadata": {},
   "outputs": [],
   "source": [
    "import sys\n",
    "sys.path.append('../')"
   ]
  },
  {
   "cell_type": "code",
   "execution_count": 2,
   "metadata": {},
   "outputs": [
    {
     "name": "stdout",
     "output_type": "stream",
     "text": [
      "WARNING:tensorflow:\n",
      "The TensorFlow contrib module will not be included in TensorFlow 2.0.\n",
      "For more information, please see:\n",
      "  * https://github.com/tensorflow/community/blob/master/rfcs/20180907-contrib-sunset.md\n",
      "  * https://github.com/tensorflow/addons\n",
      "  * https://github.com/tensorflow/io (for I/O related ops)\n",
      "If you depend on functionality not listed there, please file an issue.\n",
      "\n"
     ]
    }
   ],
   "source": [
    "import logging\n",
    "from stable_baselines import PPO2, logger\n",
    "from stable_baselines.common.cmd_util import make_atari_env, atari_arg_parser\n",
    "from stable_baselines.common.vec_env import VecFrameStack, SubprocVecEnv, DummyVecEnv\n",
    "from stable_baselines.common.policies import CnnPolicy, CnnLstmPolicy, CnnLnLstmPolicy, MlpPolicy\n",
    "\n",
    "from agents.discrete_agent import DiscreteTrader\n",
    "from agents.simple_agent import DiscreteTrader as SimpleAgent"
   ]
  },
  {
   "cell_type": "code",
   "execution_count": 3,
   "metadata": {},
   "outputs": [],
   "source": [
    "logging.getLogger().setLevel(logging.ERROR)"
   ]
  },
  {
   "cell_type": "code",
   "execution_count": 4,
   "metadata": {},
   "outputs": [],
   "source": [
    "agent_config = {\n",
    "    'inventory': 2000.0,\n",
    "    'target_inventory': 0.0, \n",
    "    'trade_window': 20 * 60, \n",
    "    'impact_param': 10 ** 6, \n",
    "    'data_path': '../data/onetick/processed_3/AAPL', \n",
    "    'limit_order_level': 2, \n",
    "    'is_buy_agent': False, \n",
    "    'sampling_freq': 5  # seconds\n",
    "}\n",
    "\n",
    "policy = 'mlp'\n",
    "total_timesteps = 16000 * int(agent_config['trade_window'] / agent_config['sampling_freq'])\n",
    "nminibatches = 16\n",
    "n_envs = 2 * nminibatches\n",
    "n_steps = 100"
   ]
  },
  {
   "cell_type": "code",
   "execution_count": 5,
   "metadata": {},
   "outputs": [],
   "source": [
    "def train(env_params, total_timesteps, policy,\n",
    "          n_envs, nminibatches, n_steps, trader, seed=42):\n",
    "    \"\"\"\n",
    "    :param env_params: the environment params at init\n",
    "    :param total_timesteps: (int) the number of timesteps to run\n",
    "    :param seed: (int) Used to seed the random generator.\n",
    "    :param policy: (Object) The policy model to use (MLP, CNN, LSTM, ...)\n",
    "    :param n_envs: (int) Number of parallel environments\n",
    "    :param nminibatches: (int) Number of training minibatches per update. For recurrent policies,\n",
    "        the number of environments run in parallel should be a multiple of nminibatches.\n",
    "    :param n_steps: (int) The number of steps to run for each environment per update\n",
    "        (i.e. batch size is n_steps * n_env where n_env is number of environment copies running in parallel)\n",
    "    \"\"\"\n",
    "\n",
    "    # env = VecFrameStack(TraderEnv(env_param),4) # If using stacking\n",
    "    env = SubprocVecEnv([lambda: trader(**env_params) for _ in range(n_envs)])\n",
    "\n",
    "#     env = DiscreteTrader(**env_params)\n",
    "    policy = {'cnn': CnnPolicy, 'lstm': CnnLstmPolicy, 'lnlstm': CnnLnLstmPolicy, 'mlp': MlpPolicy}[policy]\n",
    "    model = PPO2(policy=policy, env=env, n_steps=n_steps, nminibatches=nminibatches,\n",
    "                 lam=0.95, gamma=0.99, noptepochs=4, ent_coef=.01,\n",
    "                 learning_rate=lambda f: f * 2.5e-4, cliprange=lambda f: f * 0.1, verbose=1)\n",
    "    model.learn(total_timesteps=total_timesteps)\n",
    "#     env.close()\n",
    "    # Free memory\n",
    "    return model"
   ]
  },
  {
   "cell_type": "code",
   "execution_count": null,
   "metadata": {},
   "outputs": [
    {
     "name": "stdout",
     "output_type": "stream",
     "text": [
      "WARNING:tensorflow:From /home/maxlamberti/anaconda3/envs/AFP_ENV/lib/python3.7/site-packages/stable_baselines/common/tf_util.py:58: The name tf.ConfigProto is deprecated. Please use tf.compat.v1.ConfigProto instead.\n",
      "\n"
     ]
    },
    {
     "name": "stderr",
     "output_type": "stream",
     "text": [
      "[WARNING] | 2020-03-02 02:23:41,462 | From /home/maxlamberti/anaconda3/envs/AFP_ENV/lib/python3.7/site-packages/stable_baselines/common/tf_util.py:58: The name tf.ConfigProto is deprecated. Please use tf.compat.v1.ConfigProto instead.\n",
      "\n"
     ]
    },
    {
     "name": "stdout",
     "output_type": "stream",
     "text": [
      "WARNING:tensorflow:From /home/maxlamberti/anaconda3/envs/AFP_ENV/lib/python3.7/site-packages/stable_baselines/common/tf_util.py:67: The name tf.Session is deprecated. Please use tf.compat.v1.Session instead.\n",
      "\n"
     ]
    },
    {
     "name": "stderr",
     "output_type": "stream",
     "text": [
      "[WARNING] | 2020-03-02 02:23:41,464 | From /home/maxlamberti/anaconda3/envs/AFP_ENV/lib/python3.7/site-packages/stable_baselines/common/tf_util.py:67: The name tf.Session is deprecated. Please use tf.compat.v1.Session instead.\n",
      "\n"
     ]
    },
    {
     "name": "stdout",
     "output_type": "stream",
     "text": [
      "WARNING:tensorflow:From /home/maxlamberti/anaconda3/envs/AFP_ENV/lib/python3.7/site-packages/stable_baselines/common/policies.py:115: The name tf.variable_scope is deprecated. Please use tf.compat.v1.variable_scope instead.\n",
      "\n"
     ]
    },
    {
     "name": "stderr",
     "output_type": "stream",
     "text": [
      "[WARNING] | 2020-03-02 02:23:41,783 | From /home/maxlamberti/anaconda3/envs/AFP_ENV/lib/python3.7/site-packages/stable_baselines/common/policies.py:115: The name tf.variable_scope is deprecated. Please use tf.compat.v1.variable_scope instead.\n",
      "\n"
     ]
    },
    {
     "name": "stdout",
     "output_type": "stream",
     "text": [
      "WARNING:tensorflow:From /home/maxlamberti/anaconda3/envs/AFP_ENV/lib/python3.7/site-packages/stable_baselines/common/input.py:25: The name tf.placeholder is deprecated. Please use tf.compat.v1.placeholder instead.\n",
      "\n"
     ]
    },
    {
     "name": "stderr",
     "output_type": "stream",
     "text": [
      "[WARNING] | 2020-03-02 02:23:41,785 | From /home/maxlamberti/anaconda3/envs/AFP_ENV/lib/python3.7/site-packages/stable_baselines/common/input.py:25: The name tf.placeholder is deprecated. Please use tf.compat.v1.placeholder instead.\n",
      "\n"
     ]
    },
    {
     "name": "stdout",
     "output_type": "stream",
     "text": [
      "WARNING:tensorflow:From /home/maxlamberti/anaconda3/envs/AFP_ENV/lib/python3.7/site-packages/stable_baselines/common/policies.py:560: flatten (from tensorflow.python.layers.core) is deprecated and will be removed in a future version.\n",
      "Instructions for updating:\n",
      "Use keras.layers.flatten instead.\n"
     ]
    },
    {
     "name": "stderr",
     "output_type": "stream",
     "text": [
      "[WARNING] | 2020-03-02 02:23:41,789 | From /home/maxlamberti/anaconda3/envs/AFP_ENV/lib/python3.7/site-packages/stable_baselines/common/policies.py:560: flatten (from tensorflow.python.layers.core) is deprecated and will be removed in a future version.\n",
      "Instructions for updating:\n",
      "Use keras.layers.flatten instead.\n"
     ]
    },
    {
     "name": "stdout",
     "output_type": "stream",
     "text": [
      "WARNING:tensorflow:From /home/maxlamberti/anaconda3/envs/AFP_ENV/lib/python3.7/site-packages/tensorflow_core/python/layers/core.py:332: Layer.apply (from tensorflow.python.keras.engine.base_layer) is deprecated and will be removed in a future version.\n",
      "Instructions for updating:\n",
      "Please use `layer.__call__` method instead.\n"
     ]
    },
    {
     "name": "stderr",
     "output_type": "stream",
     "text": [
      "[WARNING] | 2020-03-02 02:23:41,791 | From /home/maxlamberti/anaconda3/envs/AFP_ENV/lib/python3.7/site-packages/tensorflow_core/python/layers/core.py:332: Layer.apply (from tensorflow.python.keras.engine.base_layer) is deprecated and will be removed in a future version.\n",
      "Instructions for updating:\n",
      "Please use `layer.__call__` method instead.\n"
     ]
    },
    {
     "name": "stdout",
     "output_type": "stream",
     "text": [
      "WARNING:tensorflow:From /home/maxlamberti/anaconda3/envs/AFP_ENV/lib/python3.7/site-packages/stable_baselines/a2c/utils.py:156: The name tf.get_variable is deprecated. Please use tf.compat.v1.get_variable instead.\n",
      "\n"
     ]
    },
    {
     "name": "stderr",
     "output_type": "stream",
     "text": [
      "[WARNING] | 2020-03-02 02:23:41,801 | From /home/maxlamberti/anaconda3/envs/AFP_ENV/lib/python3.7/site-packages/stable_baselines/a2c/utils.py:156: The name tf.get_variable is deprecated. Please use tf.compat.v1.get_variable instead.\n",
      "\n"
     ]
    },
    {
     "name": "stdout",
     "output_type": "stream",
     "text": [
      "WARNING:tensorflow:From /home/maxlamberti/anaconda3/envs/AFP_ENV/lib/python3.7/site-packages/stable_baselines/common/distributions.py:326: The name tf.random_uniform is deprecated. Please use tf.random.uniform instead.\n",
      "\n"
     ]
    },
    {
     "name": "stderr",
     "output_type": "stream",
     "text": [
      "[WARNING] | 2020-03-02 02:23:41,876 | From /home/maxlamberti/anaconda3/envs/AFP_ENV/lib/python3.7/site-packages/stable_baselines/common/distributions.py:326: The name tf.random_uniform is deprecated. Please use tf.random.uniform instead.\n",
      "\n"
     ]
    },
    {
     "name": "stdout",
     "output_type": "stream",
     "text": [
      "WARNING:tensorflow:From /home/maxlamberti/anaconda3/envs/AFP_ENV/lib/python3.7/site-packages/stable_baselines/common/distributions.py:327: The name tf.log is deprecated. Please use tf.math.log instead.\n",
      "\n"
     ]
    },
    {
     "name": "stderr",
     "output_type": "stream",
     "text": [
      "[WARNING] | 2020-03-02 02:23:41,881 | From /home/maxlamberti/anaconda3/envs/AFP_ENV/lib/python3.7/site-packages/stable_baselines/common/distributions.py:327: The name tf.log is deprecated. Please use tf.math.log instead.\n",
      "\n"
     ]
    },
    {
     "name": "stdout",
     "output_type": "stream",
     "text": [
      "WARNING:tensorflow:From /home/maxlamberti/anaconda3/envs/AFP_ENV/lib/python3.7/site-packages/stable_baselines/ppo2/ppo2.py:194: The name tf.summary.scalar is deprecated. Please use tf.compat.v1.summary.scalar instead.\n",
      "\n"
     ]
    },
    {
     "name": "stderr",
     "output_type": "stream",
     "text": [
      "[WARNING] | 2020-03-02 02:23:41,999 | From /home/maxlamberti/anaconda3/envs/AFP_ENV/lib/python3.7/site-packages/stable_baselines/ppo2/ppo2.py:194: The name tf.summary.scalar is deprecated. Please use tf.compat.v1.summary.scalar instead.\n",
      "\n"
     ]
    },
    {
     "name": "stdout",
     "output_type": "stream",
     "text": [
      "WARNING:tensorflow:From /home/maxlamberti/anaconda3/envs/AFP_ENV/lib/python3.7/site-packages/stable_baselines/ppo2/ppo2.py:202: The name tf.trainable_variables is deprecated. Please use tf.compat.v1.trainable_variables instead.\n",
      "\n"
     ]
    },
    {
     "name": "stderr",
     "output_type": "stream",
     "text": [
      "[WARNING] | 2020-03-02 02:23:42,006 | From /home/maxlamberti/anaconda3/envs/AFP_ENV/lib/python3.7/site-packages/stable_baselines/ppo2/ppo2.py:202: The name tf.trainable_variables is deprecated. Please use tf.compat.v1.trainable_variables instead.\n",
      "\n"
     ]
    },
    {
     "name": "stdout",
     "output_type": "stream",
     "text": [
      "WARNING:tensorflow:From /home/maxlamberti/anaconda3/envs/AFP_ENV/lib/python3.7/site-packages/tensorflow_core/python/ops/math_grad.py:1424: where (from tensorflow.python.ops.array_ops) is deprecated and will be removed in a future version.\n",
      "Instructions for updating:\n",
      "Use tf.where in 2.0, which has the same broadcast rule as np.where\n"
     ]
    },
    {
     "name": "stderr",
     "output_type": "stream",
     "text": [
      "[WARNING] | 2020-03-02 02:23:42,025 | From /home/maxlamberti/anaconda3/envs/AFP_ENV/lib/python3.7/site-packages/tensorflow_core/python/ops/math_grad.py:1424: where (from tensorflow.python.ops.array_ops) is deprecated and will be removed in a future version.\n",
      "Instructions for updating:\n",
      "Use tf.where in 2.0, which has the same broadcast rule as np.where\n"
     ]
    },
    {
     "name": "stdout",
     "output_type": "stream",
     "text": [
      "WARNING:tensorflow:From /home/maxlamberti/anaconda3/envs/AFP_ENV/lib/python3.7/site-packages/stable_baselines/ppo2/ppo2.py:210: The name tf.train.AdamOptimizer is deprecated. Please use tf.compat.v1.train.AdamOptimizer instead.\n",
      "\n"
     ]
    },
    {
     "name": "stderr",
     "output_type": "stream",
     "text": [
      "[WARNING] | 2020-03-02 02:23:42,191 | From /home/maxlamberti/anaconda3/envs/AFP_ENV/lib/python3.7/site-packages/stable_baselines/ppo2/ppo2.py:210: The name tf.train.AdamOptimizer is deprecated. Please use tf.compat.v1.train.AdamOptimizer instead.\n",
      "\n"
     ]
    },
    {
     "name": "stdout",
     "output_type": "stream",
     "text": [
      "WARNING:tensorflow:From /home/maxlamberti/anaconda3/envs/AFP_ENV/lib/python3.7/site-packages/stable_baselines/ppo2/ppo2.py:244: The name tf.global_variables_initializer is deprecated. Please use tf.compat.v1.global_variables_initializer instead.\n",
      "\n"
     ]
    },
    {
     "name": "stderr",
     "output_type": "stream",
     "text": [
      "[WARNING] | 2020-03-02 02:23:42,291 | From /home/maxlamberti/anaconda3/envs/AFP_ENV/lib/python3.7/site-packages/stable_baselines/ppo2/ppo2.py:244: The name tf.global_variables_initializer is deprecated. Please use tf.compat.v1.global_variables_initializer instead.\n",
      "\n"
     ]
    },
    {
     "name": "stdout",
     "output_type": "stream",
     "text": [
      "WARNING:tensorflow:From /home/maxlamberti/anaconda3/envs/AFP_ENV/lib/python3.7/site-packages/stable_baselines/ppo2/ppo2.py:246: The name tf.summary.merge_all is deprecated. Please use tf.compat.v1.summary.merge_all instead.\n",
      "\n"
     ]
    },
    {
     "name": "stderr",
     "output_type": "stream",
     "text": [
      "[WARNING] | 2020-03-02 02:23:42,658 | From /home/maxlamberti/anaconda3/envs/AFP_ENV/lib/python3.7/site-packages/stable_baselines/ppo2/ppo2.py:246: The name tf.summary.merge_all is deprecated. Please use tf.compat.v1.summary.merge_all instead.\n",
      "\n"
     ]
    },
    {
     "name": "stdout",
     "output_type": "stream",
     "text": [
      "---------------------------------------\n",
      "| approxkl           | 0.00022155311  |\n",
      "| clipfrac           | 0.0            |\n",
      "| explained_variance | -1.82          |\n",
      "| fps                | 426            |\n",
      "| n_updates          | 1              |\n",
      "| policy_entropy     | 0.6928606      |\n",
      "| policy_loss        | -0.00029824016 |\n",
      "| serial_timesteps   | 100            |\n",
      "| time_elapsed       | 3.34e-06       |\n",
      "| total_timesteps    | 3200           |\n",
      "| value_loss         | 0.035670403    |\n",
      "---------------------------------------\n",
      "--------------------------------------\n",
      "| approxkl           | 0.00044011584 |\n",
      "| clipfrac           | 0.0052343747  |\n",
      "| explained_variance | -2.06         |\n",
      "| fps                | 379           |\n",
      "| n_updates          | 2             |\n",
      "| policy_entropy     | 0.6927149     |\n",
      "| policy_loss        | -0.0009733952 |\n",
      "| serial_timesteps   | 200           |\n",
      "| time_elapsed       | 7.5           |\n",
      "| total_timesteps    | 6400          |\n",
      "| value_loss         | 0.016610628   |\n",
      "--------------------------------------\n",
      "--------------------------------------\n",
      "| approxkl           | 0.0011740883  |\n",
      "| clipfrac           | 0.012031251   |\n",
      "| explained_variance | -1.89         |\n",
      "| fps                | 457           |\n",
      "| n_updates          | 3             |\n",
      "| policy_entropy     | 0.6908577     |\n",
      "| policy_loss        | -0.0018884145 |\n",
      "| serial_timesteps   | 300           |\n",
      "| time_elapsed       | 15.9          |\n",
      "| total_timesteps    | 9600          |\n",
      "| value_loss         | 0.0076391445  |\n",
      "--------------------------------------\n",
      "--------------------------------------\n",
      "| approxkl           | 0.0004253964  |\n",
      "| clipfrac           | 0.0           |\n",
      "| explained_variance | -0.929        |\n",
      "| fps                | 435           |\n",
      "| n_updates          | 4             |\n",
      "| policy_entropy     | 0.6914648     |\n",
      "| policy_loss        | -0.0002840153 |\n",
      "| serial_timesteps   | 400           |\n",
      "| time_elapsed       | 22.9          |\n",
      "| total_timesteps    | 12800         |\n",
      "| value_loss         | 0.0021392126  |\n",
      "--------------------------------------\n",
      "---------------------------------------\n",
      "| approxkl           | 0.000484858    |\n",
      "| clipfrac           | 0.011015626    |\n",
      "| explained_variance | -1.51          |\n",
      "| fps                | 428            |\n",
      "| n_updates          | 5              |\n",
      "| policy_entropy     | 0.6928456      |\n",
      "| policy_loss        | -0.00083441654 |\n",
      "| serial_timesteps   | 500            |\n",
      "| time_elapsed       | 30.3           |\n",
      "| total_timesteps    | 16000          |\n",
      "| value_loss         | 0.00042152335  |\n",
      "---------------------------------------\n",
      "--------------------------------------\n",
      "| approxkl           | 0.0003596538  |\n",
      "| clipfrac           | 0.0           |\n",
      "| explained_variance | -1.3          |\n",
      "| fps                | 368           |\n",
      "| n_updates          | 6             |\n",
      "| policy_entropy     | 0.69297814    |\n",
      "| policy_loss        | -0.000175077  |\n",
      "| serial_timesteps   | 600           |\n",
      "| time_elapsed       | 37.8          |\n",
      "| total_timesteps    | 19200         |\n",
      "| value_loss         | 0.00013654874 |\n",
      "--------------------------------------\n",
      "--------------------------------------\n",
      "| approxkl           | 0.000668428   |\n",
      "| clipfrac           | 0.0055468758  |\n",
      "| explained_variance | -2.69         |\n",
      "| fps                | 445           |\n",
      "| n_updates          | 7             |\n",
      "| policy_entropy     | 0.6908704     |\n",
      "| policy_loss        | -0.0005089132 |\n",
      "| serial_timesteps   | 700           |\n",
      "| time_elapsed       | 46.4          |\n",
      "| total_timesteps    | 22400         |\n",
      "| value_loss         | 5.7001424e-05 |\n",
      "--------------------------------------\n",
      "--------------------------------------\n",
      "| approxkl           | 0.0010196819  |\n",
      "| clipfrac           | 0.023984369   |\n",
      "| explained_variance | -2.05         |\n",
      "| fps                | 443           |\n",
      "| n_updates          | 8             |\n",
      "| policy_entropy     | 0.6853927     |\n",
      "| policy_loss        | -0.0021425919 |\n",
      "| serial_timesteps   | 800           |\n",
      "| time_elapsed       | 53.6          |\n",
      "| total_timesteps    | 25600         |\n",
      "| value_loss         | 3.8556216e-05 |\n",
      "--------------------------------------\n",
      "---------------------------------------\n",
      "| approxkl           | 5.1285686e-05  |\n",
      "| clipfrac           | 0.0            |\n",
      "| explained_variance | -2.51          |\n",
      "| fps                | 423            |\n",
      "| n_updates          | 9              |\n",
      "| policy_entropy     | 0.68211883     |\n",
      "| policy_loss        | -2.5814043e-06 |\n",
      "| serial_timesteps   | 900            |\n",
      "| time_elapsed       | 60.9           |\n",
      "| total_timesteps    | 28800          |\n",
      "| value_loss         | 3.200314e-05   |\n",
      "---------------------------------------\n",
      "--------------------------------------\n",
      "| approxkl           | 0.0014276411  |\n",
      "| clipfrac           | 0.047890622   |\n",
      "| explained_variance | -1.8          |\n",
      "| fps                | 337           |\n",
      "| n_updates          | 10            |\n",
      "| policy_entropy     | 0.67354417    |\n",
      "| policy_loss        | -0.001988125  |\n",
      "| serial_timesteps   | 1000          |\n",
      "| time_elapsed       | 68.4          |\n",
      "| total_timesteps    | 32000         |\n",
      "| value_loss         | 2.9589815e-05 |\n",
      "--------------------------------------\n",
      "--------------------------------------\n",
      "| approxkl           | 0.0015821886  |\n",
      "| clipfrac           | 0.05585937    |\n",
      "| explained_variance | -2.33         |\n",
      "| fps                | 405           |\n",
      "| n_updates          | 11            |\n",
      "| policy_entropy     | 0.6598095     |\n",
      "| policy_loss        | -0.0017767686 |\n",
      "| serial_timesteps   | 1100          |\n",
      "| time_elapsed       | 77.9          |\n",
      "| total_timesteps    | 35200         |\n",
      "| value_loss         | 2.1691898e-05 |\n",
      "--------------------------------------\n",
      "--------------------------------------\n",
      "| approxkl           | 0.0014228313  |\n",
      "| clipfrac           | 0.045078132   |\n",
      "| explained_variance | -1.57         |\n",
      "| fps                | 433           |\n",
      "| n_updates          | 12            |\n",
      "| policy_entropy     | 0.6441083     |\n",
      "| policy_loss        | -0.0016053919 |\n",
      "| serial_timesteps   | 1200          |\n",
      "| time_elapsed       | 85.8          |\n",
      "| total_timesteps    | 38400         |\n",
      "| value_loss         | 1.5804542e-05 |\n",
      "--------------------------------------\n",
      "--------------------------------------\n",
      "| approxkl           | 0.0012691992  |\n",
      "| clipfrac           | 0.0278125     |\n",
      "| explained_variance | -1.25         |\n",
      "| fps                | 424           |\n",
      "| n_updates          | 13            |\n",
      "| policy_entropy     | 0.6211744     |\n",
      "| policy_loss        | -0.0013463189 |\n",
      "| serial_timesteps   | 1300          |\n",
      "| time_elapsed       | 93.2          |\n",
      "| total_timesteps    | 41600         |\n",
      "| value_loss         | 1.7708817e-05 |\n",
      "--------------------------------------\n",
      "--------------------------------------\n",
      "| approxkl           | 0.00065285584 |\n",
      "| clipfrac           | 0.016640624   |\n",
      "| explained_variance | -1.33         |\n",
      "| fps                | 408           |\n",
      "| n_updates          | 14            |\n",
      "| policy_entropy     | 0.60373056    |\n",
      "| policy_loss        | -0.0010190988 |\n",
      "| serial_timesteps   | 1400          |\n",
      "| time_elapsed       | 101           |\n",
      "| total_timesteps    | 44800         |\n",
      "| value_loss         | 2.2108452e-05 |\n",
      "--------------------------------------\n",
      "--------------------------------------\n",
      "| approxkl           | 0.00086746295 |\n",
      "| clipfrac           | 0.016328122   |\n",
      "| explained_variance | -1.54         |\n",
      "| fps                | 351           |\n",
      "| n_updates          | 15            |\n",
      "| policy_entropy     | 0.5851901     |\n",
      "| policy_loss        | -0.0013517704 |\n",
      "| serial_timesteps   | 1500          |\n",
      "| time_elapsed       | 109           |\n",
      "| total_timesteps    | 48000         |\n",
      "| value_loss         | 1.6767559e-05 |\n",
      "--------------------------------------\n",
      "--------------------------------------\n",
      "| approxkl           | 0.0007079302  |\n",
      "| clipfrac           | 0.02054687    |\n",
      "| explained_variance | -1.29         |\n",
      "| fps                | 414           |\n",
      "| n_updates          | 16            |\n",
      "| policy_entropy     | 0.56345683    |\n",
      "| policy_loss        | -0.0009063954 |\n",
      "| serial_timesteps   | 1600          |\n",
      "| time_elapsed       | 118           |\n",
      "| total_timesteps    | 51200         |\n",
      "| value_loss         | 1.6809652e-05 |\n",
      "--------------------------------------\n",
      "--------------------------------------\n",
      "| approxkl           | 0.00031333748 |\n",
      "| clipfrac           | 0.007890624   |\n",
      "| explained_variance | -0.431        |\n",
      "| fps                | 406           |\n",
      "| n_updates          | 17            |\n",
      "| policy_entropy     | 0.54784954    |\n",
      "| policy_loss        | -0.0003906084 |\n",
      "| serial_timesteps   | 1700          |\n",
      "| time_elapsed       | 125           |\n",
      "| total_timesteps    | 54400         |\n",
      "| value_loss         | 2.6056105e-05 |\n",
      "--------------------------------------\n",
      "--------------------------------------\n",
      "| approxkl           | 0.0011787759  |\n",
      "| clipfrac           | 0.04101562    |\n",
      "| explained_variance | -0.899        |\n",
      "| fps                | 380           |\n",
      "| n_updates          | 18            |\n",
      "| policy_entropy     | 0.5341316     |\n",
      "| policy_loss        | -0.001694324  |\n",
      "| serial_timesteps   | 1800          |\n",
      "| time_elapsed       | 133           |\n",
      "| total_timesteps    | 57600         |\n",
      "| value_loss         | 1.4013825e-05 |\n",
      "--------------------------------------\n",
      "--------------------------------------\n",
      "| approxkl           | 0.00039958768 |\n",
      "| clipfrac           | 0.011484376   |\n",
      "| explained_variance | -0.676        |\n",
      "| fps                | 368           |\n",
      "| n_updates          | 19            |\n",
      "| policy_entropy     | 0.516546      |\n",
      "| policy_loss        | -0.0003124875 |\n",
      "| serial_timesteps   | 1900          |\n",
      "| time_elapsed       | 142           |\n",
      "| total_timesteps    | 60800         |\n",
      "| value_loss         | 1.3701697e-05 |\n",
      "--------------------------------------\n",
      "---------------------------------------\n",
      "| approxkl           | 0.00053452724  |\n",
      "| clipfrac           | 0.010859375    |\n",
      "| explained_variance | -0.594         |\n",
      "| fps                | 377            |\n",
      "| n_updates          | 20             |\n",
      "| policy_entropy     | 0.49644253     |\n",
      "| policy_loss        | -0.00051818026 |\n",
      "| serial_timesteps   | 2000           |\n",
      "| time_elapsed       | 150            |\n",
      "| total_timesteps    | 64000          |\n",
      "| value_loss         | 1.3477585e-05  |\n",
      "---------------------------------------\n",
      "---------------------------------------\n",
      "| approxkl           | 0.0005517136   |\n",
      "| clipfrac           | 0.010625       |\n",
      "| explained_variance | -0.579         |\n",
      "| fps                | 394            |\n",
      "| n_updates          | 21             |\n",
      "| policy_entropy     | 0.4697278      |\n",
      "| policy_loss        | -0.00048434845 |\n",
      "| serial_timesteps   | 2100           |\n",
      "| time_elapsed       | 159            |\n",
      "| total_timesteps    | 67200          |\n",
      "| value_loss         | 1.0340673e-05  |\n",
      "---------------------------------------\n",
      "---------------------------------------\n",
      "| approxkl           | 0.0003245612   |\n",
      "| clipfrac           | 0.01           |\n",
      "| explained_variance | -0.154         |\n",
      "| fps                | 390            |\n",
      "| n_updates          | 22             |\n",
      "| policy_entropy     | 0.4581183      |\n",
      "| policy_loss        | -0.00031782116 |\n",
      "| serial_timesteps   | 2200           |\n",
      "| time_elapsed       | 167            |\n",
      "| total_timesteps    | 70400          |\n",
      "| value_loss         | 1.2549117e-05  |\n",
      "---------------------------------------\n",
      "--------------------------------------\n",
      "| approxkl           | 0.00067781535 |\n",
      "| clipfrac           | 0.029921876   |\n",
      "| explained_variance | -0.867        |\n",
      "| fps                | 366           |\n",
      "| n_updates          | 23            |\n",
      "| policy_entropy     | 0.43995616    |\n",
      "| policy_loss        | -0.0015486088 |\n",
      "| serial_timesteps   | 2300          |\n",
      "| time_elapsed       | 175           |\n",
      "| total_timesteps    | 73600         |\n",
      "| value_loss         | 1.1209108e-05 |\n",
      "--------------------------------------\n",
      "--------------------------------------\n",
      "| approxkl           | 0.00065082486 |\n",
      "| clipfrac           | 0.029218746   |\n",
      "| explained_variance | -1.12         |\n",
      "| fps                | 327           |\n",
      "| n_updates          | 24            |\n",
      "| policy_entropy     | 0.41698432    |\n",
      "| policy_loss        | -0.0010894021 |\n",
      "| serial_timesteps   | 2400          |\n",
      "| time_elapsed       | 184           |\n",
      "| total_timesteps    | 76800         |\n",
      "| value_loss         | 9.762052e-06  |\n",
      "--------------------------------------\n",
      "--------------------------------------\n",
      "| approxkl           | 0.00014236647 |\n",
      "| clipfrac           | 0.001953125   |\n",
      "| explained_variance | -1.03         |\n",
      "| fps                | 342           |\n",
      "| n_updates          | 25            |\n",
      "| policy_entropy     | 0.41280943    |\n",
      "| policy_loss        | 3.370466e-05  |\n",
      "| serial_timesteps   | 2500          |\n",
      "| time_elapsed       | 194           |\n",
      "| total_timesteps    | 80000         |\n",
      "| value_loss         | 1.1036722e-05 |\n",
      "--------------------------------------\n",
      "---------------------------------------\n",
      "| approxkl           | 0.00023802204  |\n",
      "| clipfrac           | 0.009921874    |\n",
      "| explained_variance | -1.41          |\n",
      "| fps                | 374            |\n",
      "| n_updates          | 26             |\n",
      "| policy_entropy     | 0.41193157     |\n",
      "| policy_loss        | -0.00017185386 |\n",
      "| serial_timesteps   | 2600           |\n",
      "| time_elapsed       | 203            |\n",
      "| total_timesteps    | 83200          |\n",
      "| value_loss         | 6.6401376e-06  |\n",
      "---------------------------------------\n",
      "---------------------------------------\n",
      "| approxkl           | 0.00037090702  |\n",
      "| clipfrac           | 0.02296875     |\n",
      "| explained_variance | -0.699         |\n",
      "| fps                | 394            |\n",
      "| n_updates          | 27             |\n",
      "| policy_entropy     | 0.42412975     |\n",
      "| policy_loss        | -0.00034254367 |\n",
      "| serial_timesteps   | 2700           |\n",
      "| time_elapsed       | 212            |\n",
      "| total_timesteps    | 86400          |\n",
      "| value_loss         | 1.0146747e-05  |\n",
      "---------------------------------------\n",
      "---------------------------------------\n",
      "| approxkl           | 0.00036150377  |\n",
      "| clipfrac           | 0.00921875     |\n",
      "| explained_variance | -0.749         |\n",
      "| fps                | 391            |\n",
      "| n_updates          | 28             |\n",
      "| policy_entropy     | 0.40591443     |\n",
      "| policy_loss        | -0.00057026336 |\n",
      "| serial_timesteps   | 2800           |\n",
      "| time_elapsed       | 220            |\n",
      "| total_timesteps    | 89600          |\n",
      "| value_loss         | 9.799179e-06   |\n",
      "---------------------------------------\n",
      "---------------------------------------\n",
      "| approxkl           | 7.654084e-05   |\n",
      "| clipfrac           | 0.0            |\n",
      "| explained_variance | -0.555         |\n",
      "| fps                | 377            |\n",
      "| n_updates          | 29             |\n",
      "| policy_entropy     | 0.40254256     |\n",
      "| policy_loss        | -0.00015179302 |\n",
      "| serial_timesteps   | 2900           |\n",
      "| time_elapsed       | 228            |\n",
      "| total_timesteps    | 92800          |\n",
      "| value_loss         | 1.0847396e-05  |\n",
      "---------------------------------------\n",
      "---------------------------------------\n",
      "| approxkl           | 0.0003117665   |\n",
      "| clipfrac           | 0.012343749    |\n",
      "| explained_variance | -0.655         |\n",
      "| fps                | 358            |\n",
      "| n_updates          | 30             |\n",
      "| policy_entropy     | 0.38208228     |\n",
      "| policy_loss        | -0.00074401253 |\n",
      "| serial_timesteps   | 3000           |\n",
      "| time_elapsed       | 236            |\n",
      "| total_timesteps    | 96000          |\n",
      "| value_loss         | 7.4681657e-06  |\n",
      "---------------------------------------\n",
      "--------------------------------------\n",
      "| approxkl           | 0.00018118262 |\n",
      "| clipfrac           | 0.0028124996  |\n",
      "| explained_variance | -0.367        |\n",
      "| fps                | 380           |\n",
      "| n_updates          | 31            |\n",
      "| policy_entropy     | 0.3806177     |\n",
      "| policy_loss        | 0.00017740662 |\n",
      "| serial_timesteps   | 3100          |\n",
      "| time_elapsed       | 245           |\n",
      "| total_timesteps    | 99200         |\n",
      "| value_loss         | 9.707038e-06  |\n",
      "--------------------------------------\n"
     ]
    }
   ],
   "source": [
    "import time\n",
    "start = time.time()\n",
    "model = train(agent_config, total_timesteps, policy, n_envs, nminibatches, n_steps, SimpleAgent)\n",
    "print(time.time() - start)"
   ]
  },
  {
   "cell_type": "code",
   "execution_count": 7,
   "metadata": {},
   "outputs": [],
   "source": [
    "import sys\n",
    "sys.path.append('../')"
   ]
  },
  {
   "cell_type": "code",
   "execution_count": null,
   "metadata": {},
   "outputs": [],
   "source": [
    "model.save('../data/agents/rl_agent_v5')"
   ]
  },
  {
   "cell_type": "code",
   "execution_count": 10,
   "metadata": {},
   "outputs": [],
   "source": [
    "import os\n",
    "import logging\n",
    "import numpy as np\n",
    "from tqdm import tqdm"
   ]
  },
  {
   "cell_type": "code",
   "execution_count": 11,
   "metadata": {},
   "outputs": [],
   "source": [
    "from simulator.lob import OrderBookSimulator\n",
    "from scripts.utils.data_loading import get_data_file_paths"
   ]
  },
  {
   "cell_type": "code",
   "execution_count": 12,
   "metadata": {},
   "outputs": [],
   "source": [
    "logging.getLogger().setLevel(logging.ERROR)"
   ]
  },
  {
   "cell_type": "code",
   "execution_count": 14,
   "metadata": {},
   "outputs": [],
   "source": [
    "DATA_ROOT = '../data/onetick/test/'\n",
    "IMPACT_PARAM = 10 ** 8  # large values execute against historic orders\n",
    "# DURATION = 20 * 60  # in seconds\n",
    "# SAMPLING_FREQUENCY = 5  # in seconds, dicated by LOB data\n",
    "# NUM_PERIODS = int(DURATION / SAMPLING_FREQUENCY)"
   ]
  },
  {
   "cell_type": "code",
   "execution_count": 15,
   "metadata": {},
   "outputs": [],
   "source": [
    "simulation_periods = get_data_file_paths(DATA_ROOT)"
   ]
  },
  {
   "cell_type": "markdown",
   "metadata": {},
   "source": [
    "### Strategy which places a market sell order every PLACEMENT_FREQUENCY periods"
   ]
  },
  {
   "cell_type": "code",
   "execution_count": 16,
   "metadata": {},
   "outputs": [],
   "source": [
    "from agents.simple_agent import DiscreteTrader as TempDiscreteTrader"
   ]
  },
  {
   "cell_type": "code",
   "execution_count": 18,
   "metadata": {},
   "outputs": [],
   "source": [
    "agent_config['data_path'] = '../data/onetick/test/'"
   ]
  },
  {
   "cell_type": "code",
   "execution_count": 19,
   "metadata": {},
   "outputs": [
    {
     "name": "stderr",
     "output_type": "stream",
     "text": [
      "/home/maxlamberti/anaconda3/envs/AFP_ENV/lib/python3.7/site-packages/gym/logger.py:30: UserWarning: \u001b[33mWARN: Box bound precision lowered by casting to float32\u001b[0m\n",
      "  warnings.warn(colorize('%s: %s'%('WARN', msg % args), 'yellow'))\n"
     ]
    }
   ],
   "source": [
    "env = TempDiscreteTrader(**agent_config)\n",
    "obs = env.reset()"
   ]
  },
  {
   "cell_type": "code",
   "execution_count": 20,
   "metadata": {},
   "outputs": [],
   "source": [
    "calc_midprice = lambda x: (x.BID_PRICE.max() + x.ASK_PRICE.min()) / 2"
   ]
  },
  {
   "cell_type": "code",
   "execution_count": null,
   "metadata": {},
   "outputs": [],
   "source": []
  },
  {
   "cell_type": "code",
   "execution_count": 21,
   "metadata": {},
   "outputs": [
    {
     "name": "stderr",
     "output_type": "stream",
     "text": [
      "  0%|          | 0/1 [00:00<?, ?it/s]../simulator/lob.py:198: RuntimeWarning: divide by zero encountered in true_divide\n",
      "  vol_threshold = top_tick_vol / order['volume']\n",
      "100%|██████████| 1/1 [00:01<00:00,  1.85s/it]\n"
     ]
    }
   ],
   "source": [
    "ALL_DATA = {}\n",
    "NUM_PERIODS = int(agent_config['trade_window'] / agent_config['sampling_freq'])\n",
    "actions = []\n",
    "\n",
    "obs = env.reset()\n",
    "# while True:\n",
    "#     action, _states = model.predict(obs)\n",
    "#     obs, rewards, dones, info = env.step(action)\n",
    "\n",
    "for sim_data_path in tqdm(simulation_periods[:1]):\n",
    "    \n",
    "    obs = env.reset()\n",
    "\n",
    "    for period in range(0, NUM_PERIODS):\n",
    "        \n",
    "        action, _states = model.predict(obs)\n",
    "        obs, reward, done, info = env.step(action)\n",
    "        actions.append(action)\n",
    "    ALL_DATA[sim_data_path] = {}\n",
    "    ALL_DATA[sim_data_path]['executed_orders'] = env.order_execution_history\n",
    "    ALL_DATA[sim_data_path]['initial_price'] = env.initial_price\n",
    "#     ALL_DATA[sim_data_path] = {'price_series': midprice_series, 'executed_orders': order_list}\n"
   ]
  },
  {
   "cell_type": "code",
   "execution_count": 71,
   "metadata": {},
   "outputs": [],
   "source": [
    "shortfall_results = []\n",
    "total_volumes = []\n",
    "sim_path_arr = []\n",
    "limit_volume_arr = []\n",
    "for sim_data_path, sim_results in ALL_DATA.items():\n",
    "    vol_weighted_price_sum = sum([order['volume'] * order['price'] for order in sim_results['executed_orders']])   \n",
    "    total_volume = sum([order['volume'] for order in sim_results['executed_orders']])\n",
    "    if total_volume == 0: \n",
    "        continue\n",
    "    limit_volume_arr.append(sum([order['volume'] for order in sim_results['executed_orders'] if order['type'] == 'limit'])) \n",
    "    vwap = vol_weighted_price_sum / total_volume\n",
    "    shortfall = 100 * (vwap - sim_results['initial_price']) / sim_results['initial_price']\n",
    "    shortfall_results.append(shortfall)\n",
    "    total_volumes.append(total_volume)\n",
    "    sim_path_arr.append(sim_data_path)"
   ]
  },
  {
   "cell_type": "code",
   "execution_count": 73,
   "metadata": {},
   "outputs": [
    {
     "name": "stdout",
     "output_type": "stream",
     "text": [
      "1131.5238095238096 684.5384615384615\n"
     ]
    }
   ],
   "source": [
    "shortfall_results = np.array(shortfall_results)\n",
    "sim_path_arr = np.array(sim_path_arr)\n",
    "limit_volume_arr = np.array(limit_volume_arr)\n",
    "\n",
    "print(np.mean(limit_volume_arr[shortfall_results > 200]), np.mean(limit_volume_arr[shortfall_results < 200]))"
   ]
  },
  {
   "cell_type": "code",
   "execution_count": 69,
   "metadata": {},
   "outputs": [
    {
     "data": {
      "text/plain": [
       "{'executed_orders': [{'type': 'market',\n",
       "   'volume': 200.0,\n",
       "   'is_buy': False,\n",
       "   'execution_time': Timestamp('2012-06-13 12:17:45', freq='5S'),\n",
       "   'price': 576.2453},\n",
       "  {'type': 'limit', 'is_buy': False, 'volume': 100.0, 'price': 576.38},\n",
       "  {'type': 'limit', 'is_buy': False, 'volume': 100.0, 'price': 576.52},\n",
       "  {'type': 'limit', 'is_buy': False, 'volume': 100.0, 'price': 576.53},\n",
       "  {'type': 'market',\n",
       "   'volume': 100.0,\n",
       "   'is_buy': False,\n",
       "   'execution_time': Timestamp('2012-06-13 12:18:20', freq='5S'),\n",
       "   'price': 576.3421000000001},\n",
       "  {'type': 'market',\n",
       "   'volume': 200.0,\n",
       "   'is_buy': False,\n",
       "   'execution_time': Timestamp('2012-06-13 12:18:50', freq='5S'),\n",
       "   'price': 576.3139},\n",
       "  {'type': 'limit', 'is_buy': False, 'volume': 100.0, 'price': 576.48},\n",
       "  {'type': 'market',\n",
       "   'volume': 200.0,\n",
       "   'is_buy': False,\n",
       "   'execution_time': Timestamp('2012-06-13 12:19:00', freq='5S'),\n",
       "   'price': 576.4265},\n",
       "  {'type': 'limit', 'is_buy': False, 'volume': 100.0, 'price': 576.59},\n",
       "  {'type': 'market',\n",
       "   'volume': 100.0,\n",
       "   'is_buy': False,\n",
       "   'execution_time': Timestamp('2012-06-13 12:19:25', freq='5S'),\n",
       "   'price': 576.43},\n",
       "  {'type': 'limit', 'is_buy': False, 'volume': 100.0, 'price': 576.55},\n",
       "  {'type': 'limit', 'is_buy': False, 'volume': 6, 'price': 576.84},\n",
       "  {'type': 'market',\n",
       "   'volume': 100.0,\n",
       "   'is_buy': False,\n",
       "   'execution_time': Timestamp('2012-06-13 12:20:10', freq='5S'),\n",
       "   'price': 576.71},\n",
       "  {'type': 'market',\n",
       "   'volume': 200.0,\n",
       "   'is_buy': False,\n",
       "   'execution_time': Timestamp('2012-06-13 12:21:05', freq='5S'),\n",
       "   'price': 576.545},\n",
       "  {'type': 'limit', 'is_buy': False, 'volume': 100.0, 'price': 576.75},\n",
       "  {'type': 'market',\n",
       "   'volume': 194.0,\n",
       "   'is_buy': False,\n",
       "   'execution_time': Timestamp('2012-06-13 12:21:25', freq='5S'),\n",
       "   'price': 576.5555670103092}],\n",
       " 'initial_price': 122.565}"
      ]
     },
     "execution_count": 69,
     "metadata": {},
     "output_type": "execute_result"
    }
   ],
   "source": [
    "ALL_DATA[sim_path_arr[shortfall_results > 200][0]]"
   ]
  },
  {
   "cell_type": "code",
   "execution_count": null,
   "metadata": {},
   "outputs": [],
   "source": []
  },
  {
   "cell_type": "code",
   "execution_count": 59,
   "metadata": {},
   "outputs": [
    {
     "data": {
      "text/plain": [
       "array([2000., 2001., 2020., 2071., 2080., 2084., 2100., 2165., 2200.])"
      ]
     },
     "execution_count": 59,
     "metadata": {},
     "output_type": "execute_result"
    }
   ],
   "source": [
    "np.unique(total_volumes)"
   ]
  },
  {
   "cell_type": "code",
   "execution_count": 62,
   "metadata": {},
   "outputs": [
    {
     "data": {
      "text/plain": [
       "<matplotlib.axes._subplots.AxesSubplot at 0x7f6ad1fb20d0>"
      ]
     },
     "execution_count": 62,
     "metadata": {},
     "output_type": "execute_result"
    },
    {
     "data": {
      "image/png": "[encoded data removed]",
      "text/plain": [
       "<Figure size 432x288 with 1 Axes>"
      ]
     },
     "metadata": {
      "needs_background": "light"
     },
     "output_type": "display_data"
    }
   ],
   "source": [
    "from seaborn import kdeplot\n",
    "kdeplot(shortfall_results, shade=True)"
   ]
  },
  {
   "cell_type": "code",
   "execution_count": 63,
   "metadata": {},
   "outputs": [
    {
     "data": {
      "text/plain": [
       "(array([28., 46.,  4.,  0.,  1.,  1.,  4.,  6.,  6.,  3.]),\n",
       " array([-82.6382521 , -22.0021435 ,  38.6339651 ,  99.2700737 ,\n",
       "        159.9061823 , 220.5422909 , 281.1783995 , 341.8145081 ,\n",
       "        402.4506167 , 463.0867253 , 523.72283389]),\n",
       " <a list of 10 Patch objects>)"
      ]
     },
     "execution_count": 63,
     "metadata": {},
     "output_type": "execute_result"
    },
    {
     "data": {
      "image/png": "[encoded data removed]",
      "text/plain": [
       "<Figure size 432x288 with 1 Axes>"
      ]
     },
     "metadata": {
      "needs_background": "light"
     },
     "output_type": "display_data"
    }
   ],
   "source": [
    "import matplotlib.pyplot as plt\n",
    "plt.hist(shortfall_results)"
   ]
  },
  {
   "cell_type": "code",
   "execution_count": 49,
   "metadata": {},
   "outputs": [
    {
     "name": "stdout",
     "output_type": "stream",
     "text": [
      "Mean Shortfall: 7347.3062 bps +/- 1349.6461 bps\n"
     ]
    },
    {
     "ename": "TypeError",
     "evalue": "can't multiply sequence by non-int of type 'numpy.float64'",
     "output_type": "error",
     "traceback": [
      "\u001b[0;31m---------------------------------------------------------------------------\u001b[0m",
      "\u001b[0;31mTypeError\u001b[0m                                 Traceback (most recent call last)",
      "\u001b[0;32m<ipython-input-49-b48f2443a715>\u001b[0m in \u001b[0;36m<module>\u001b[0;34m\u001b[0m\n\u001b[1;32m      3\u001b[0m \u001b[0mse\u001b[0m \u001b[0;34m=\u001b[0m \u001b[0mstd\u001b[0m \u001b[0;34m/\u001b[0m \u001b[0mnp\u001b[0m\u001b[0;34m.\u001b[0m\u001b[0msqrt\u001b[0m\u001b[0;34m(\u001b[0m\u001b[0mlen\u001b[0m\u001b[0;34m(\u001b[0m\u001b[0mshortfall_results\u001b[0m\u001b[0;34m)\u001b[0m\u001b[0;34m)\u001b[0m\u001b[0;34m\u001b[0m\u001b[0;34m\u001b[0m\u001b[0m\n\u001b[1;32m      4\u001b[0m \u001b[0mprint\u001b[0m\u001b[0;34m(\u001b[0m\u001b[0;34m'Mean Shortfall: %.4f bps +/- %.4f bps'\u001b[0m \u001b[0;34m%\u001b[0m \u001b[0;34m(\u001b[0m\u001b[0;36m100\u001b[0m \u001b[0;34m*\u001b[0m \u001b[0mmean\u001b[0m\u001b[0;34m,\u001b[0m \u001b[0;36m100\u001b[0m \u001b[0;34m*\u001b[0m \u001b[0mse\u001b[0m\u001b[0;34m)\u001b[0m\u001b[0;34m)\u001b[0m\u001b[0;34m\u001b[0m\u001b[0;34m\u001b[0m\u001b[0m\n\u001b[0;32m----> 5\u001b[0;31m \u001b[0mprint\u001b[0m\u001b[0;34m(\u001b[0m\u001b[0;34m'StDev Shortfall: %.4f bps'\u001b[0m \u001b[0;34m%\u001b[0m \u001b[0;36m100\u001b[0m \u001b[0;34m*\u001b[0m \u001b[0mstd\u001b[0m\u001b[0;34m)\u001b[0m\u001b[0;34m\u001b[0m\u001b[0;34m\u001b[0m\u001b[0m\n\u001b[0m",
      "\u001b[0;31mTypeError\u001b[0m: can't multiply sequence by non-int of type 'numpy.float64'"
     ]
    }
   ],
   "source": [
    "mean = np.mean(shortfall_results)\n",
    "std = np.std(shortfall_results)\n",
    "se = std / np.sqrt(len(shortfall_results))\n",
    "print('Mean Shortfall: %.4f bps +/- %.4f bps' % (100 * mean, 100 * se))\n",
    "print('StDev Shortfall: %.4f bps' % 100 * std)"
   ]
  },
  {
   "cell_type": "code",
   "execution_count": null,
   "metadata": {},
   "outputs": [],
   "source": []
  },
  {
   "cell_type": "code",
   "execution_count": 22,
   "metadata": {},
   "outputs": [
    {
     "data": {
      "text/plain": [
       "[<matplotlib.lines.Line2D at 0x7f5f186f4dd0>]"
      ]
     },
     "execution_count": 22,
     "metadata": {},
     "output_type": "execute_result"
    },
    {
     "data": {
      "image/png": "[encoded data removed]",
      "text/plain": [
       "<Figure size 432x288 with 1 Axes>"
      ]
     },
     "metadata": {
      "needs_background": "light"
     },
     "output_type": "display_data"
    }
   ],
   "source": [
    "import matplotlib.pyplot as plt\n",
    "plt.plot(actions, 'x')"
   ]
  },
  {
   "cell_type": "code",
   "execution_count": 23,
   "metadata": {},
   "outputs": [
    {
     "data": {
      "text/plain": [
       "(array([ 48.,   0.,   0.,   0.,   0., 124.,   0.,   0.,   0.,  68.]),\n",
       " array([0. , 0.2, 0.4, 0.6, 0.8, 1. , 1.2, 1.4, 1.6, 1.8, 2. ]),\n",
       " <a list of 10 Patch objects>)"
      ]
     },
     "execution_count": 23,
     "metadata": {},
     "output_type": "execute_result"
    },
    {
     "data": {
      "image/png": "[encoded data removed]",
      "text/plain": [
       "<Figure size 432x288 with 1 Axes>"
      ]
     },
     "metadata": {
      "needs_background": "light"
     },
     "output_type": "display_data"
    }
   ],
   "source": [
    "plt.hist(actions)"
   ]
  },
  {
   "cell_type": "code",
   "execution_count": 30,
   "metadata": {},
   "outputs": [
    {
     "data": {
      "text/plain": [
       "[100.0,\n",
       " 100.0,\n",
       " 100.0,\n",
       " 100.0,\n",
       " 100.0,\n",
       " 200.0,\n",
       " 200.0,\n",
       " 2,\n",
       " 76,\n",
       " 200.0,\n",
       " 3,\n",
       " 200.0,\n",
       " 1,\n",
       " 200.0,\n",
       " 200.0,\n",
       " 200.0,\n",
       " 18.0]"
      ]
     },
     "execution_count": 30,
     "metadata": {},
     "output_type": "execute_result"
    }
   ],
   "source": [
    "[order['volume'] for order in env.order_execution_history]"
   ]
  },
  {
   "cell_type": "code",
   "execution_count": 23,
   "metadata": {},
   "outputs": [
    {
     "data": {
      "text/plain": [
       "[]"
      ]
     },
     "execution_count": 23,
     "metadata": {},
     "output_type": "execute_result"
    }
   ],
   "source": [
    "env.order_execution_history"
   ]
  },
  {
   "cell_type": "code",
   "execution_count": 24,
   "metadata": {},
   "outputs": [
    {
     "data": {
      "text/plain": [
       "{'../data/onetick/processed_2/AAPL/2012-01-03 10:35:00': {'executed_orders': [],\n",
       "  'initial_price': 574.5699999999999}}"
      ]
     },
     "execution_count": 24,
     "metadata": {},
     "output_type": "execute_result"
    }
   ],
   "source": [
    "ALL_DATA"
   ]
  },
  {
   "cell_type": "code",
   "execution_count": null,
   "metadata": {},
   "outputs": [],
   "source": []
  }
 ],
 "metadata": {
  "kernelspec": {
   "display_name": "Python 3",
   "language": "python",
   "name": "python3"
  },
  "language_info": {
   "codemirror_mode": {
    "name": "ipython",
    "version": 3
   },
   "file_extension": ".py",
   "mimetype": "text/x-python",
   "name": "python",
   "nbconvert_exporter": "python",
   "pygments_lexer": "ipython3",
   "version": "3.7.6"
  }
 },
 "nbformat": 4,
 "nbformat_minor": 4
}

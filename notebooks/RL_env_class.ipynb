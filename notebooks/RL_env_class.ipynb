{
 "cells": [
  {
   "cell_type": "code",
   "execution_count": null,
   "metadata": {},
   "outputs": [],
   "source": [
    "import gym\n",
    "import numpy as np\n",
    "import pandas as pd\n",
    "\n",
    "class TraderEnv(object):\n",
    "    def __init__(self, LOB):\n",
    "        ## Define Action Space\n",
    "        self.action_space = gym.spaces.Discrete(3) #number of discrete action bins\n",
    "        self.action_size = [100,200,300] #adjust as necessary\n",
    "        ## Define initial values\n",
    "        self.t = 0\n",
    "        self.pos = 10000 # Consider passing initial position exogenously\n",
    "        self.reward = 0\n",
    "        self.buy = False\n",
    "        \n",
    "        ## Data transformations (if necessary)\n",
    "    def step(self, action):\n",
    "        \n",
    "        order_size = np.min(self.action_size[action], self.pos)\n",
    "        if(self.buy):\n",
    "            LOB.place_market_buy_order(order_size)\n",
    "        else:\n",
    "            LOB.place_market_sell_order(order_size)\n",
    "            \n",
    "        ## update state\n",
    "        ob, trds, executed_orders, active_limit_order_levels = LOB.iterate()\n",
    "        state = 0 # TO DO: Transform updated ob, trds, etc. to new state\n",
    "        \n",
    "        self.pos += 0 # TO DO: Reduce position remaining from executed orders\n",
    "        self.reward += self.compute_reward(executed_orders,active_limit_order_levels) #compute reward - needs set of executed trades and their starting price/time\n",
    "        self.t += 1 #increment step, define times explicitly if necessary\n",
    "        \n",
    "        done = False\n",
    "        if(self.pos==0): # early stop condition, temporary\n",
    "            done = True\n",
    "        \n",
    "        return np.array(state), self.reward, done\n",
    "        \n",
    "    def reset(self):\n",
    "        self.t = 0\n",
    "        self.pos = 10000\n",
    "        self.reward = 0\n",
    "        state = 0\n",
    "        return state\n",
    "    \n",
    "    \n",
    "    def compute_reward(self,ex,active):\n",
    "        reward = 0 # TO DO: Compute price difference from when order was placed to execution\n",
    "        return reward\n",
    "    "
   ]
  },
  {
   "cell_type": "code",
   "execution_count": null,
   "metadata": {},
   "outputs": [],
   "source": [
    "env = TraderEnv(LOB)\n",
    "\n",
    "env.reset()\n",
    "\n",
    "env.step(3)"
   ]
  }
 ],
 "metadata": {
  "kernelspec": {
   "display_name": "Python 3",
   "language": "python",
   "name": "python3"
  },
  "language_info": {
   "codemirror_mode": {
    "name": "ipython",
    "version": 3
   },
   "file_extension": ".py",
   "mimetype": "text/x-python",
   "name": "python",
   "nbconvert_exporter": "python",
   "pygments_lexer": "ipython3",
   "version": "3.6.4"
  }
 },
 "nbformat": 4,
 "nbformat_minor": 2
}

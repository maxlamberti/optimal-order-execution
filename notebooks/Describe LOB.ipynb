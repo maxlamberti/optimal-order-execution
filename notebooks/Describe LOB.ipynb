{
 "cells": [
  {
   "cell_type": "code",
   "execution_count": 2,
   "metadata": {},
   "outputs": [],
   "source": [
    "import sys\n",
    "sys.path.append('../')"
   ]
  },
  {
   "cell_type": "code",
   "execution_count": 3,
   "metadata": {},
   "outputs": [],
   "source": [
    "import os\n",
    "import numpy as np\n",
    "import pandas as pd\n",
    "from datetime import datetime\n",
    "import matplotlib.pyplot as plt\n",
    "from scripts.utils.data_loading import load_data"
   ]
  },
  {
   "cell_type": "code",
   "execution_count": 4,
   "metadata": {},
   "outputs": [],
   "source": [
    "%matplotlib inline"
   ]
  },
  {
   "cell_type": "code",
   "execution_count": 5,
   "metadata": {},
   "outputs": [],
   "source": [
    "DATA_DIRECTORY = '../data/recent-trades/XXBTZUSD'"
   ]
  },
  {
   "cell_type": "code",
   "execution_count": 6,
   "metadata": {},
   "outputs": [],
   "source": [
    "start = datetime(2020, 1, 1)\n",
    "end = datetime(2020, 3, 26)"
   ]
  },
  {
   "cell_type": "code",
   "execution_count": 7,
   "metadata": {},
   "outputs": [
    {
     "name": "stderr",
     "output_type": "stream",
     "text": [
      "1154it [00:06, 172.34it/s]\n"
     ]
    }
   ],
   "source": [
    "trades_df = load_data(DATA_DIRECTORY, start, end)"
   ]
  },
  {
   "cell_type": "code",
   "execution_count": 9,
   "metadata": {},
   "outputs": [],
   "source": [
    "trades_df = trades_df[trades_df['market_or_limit'] == 'm']"
   ]
  },
  {
   "cell_type": "code",
   "execution_count": 11,
   "metadata": {},
   "outputs": [
    {
     "name": "stderr",
     "output_type": "stream",
     "text": [
      "/home/maxlamberti/anaconda3/envs/AFP_ENV/lib/python3.7/site-packages/ipykernel_launcher.py:1: SettingWithCopyWarning: \n",
      "A value is trying to be set on a copy of a slice from a DataFrame.\n",
      "Try using .loc[row_indexer,col_indexer] = value instead\n",
      "\n",
      "See the caveats in the documentation: http://pandas.pydata.org/pandas-docs/stable/user_guide/indexing.html#returning-a-view-versus-a-copy\n",
      "  \"\"\"Entry point for launching an IPython kernel.\n"
     ]
    }
   ],
   "source": [
    "trades_df['datetime'] = pd.to_datetime(trades_df['time'], unit='s')"
   ]
  },
  {
   "cell_type": "code",
   "execution_count": 12,
   "metadata": {},
   "outputs": [
    {
     "data": {
      "text/html": [
       "<div>\n",
       "<style scoped>\n",
       "    .dataframe tbody tr th:only-of-type {\n",
       "        vertical-align: middle;\n",
       "    }\n",
       "\n",
       "    .dataframe tbody tr th {\n",
       "        vertical-align: top;\n",
       "    }\n",
       "\n",
       "    .dataframe thead th {\n",
       "        text-align: right;\n",
       "    }\n",
       "</style>\n",
       "<table border=\"1\" class=\"dataframe\">\n",
       "  <thead>\n",
       "    <tr style=\"text-align: right;\">\n",
       "      <th></th>\n",
       "      <th>price</th>\n",
       "      <th>volume</th>\n",
       "      <th>time</th>\n",
       "      <th>buy_or_sell</th>\n",
       "      <th>market_or_limit</th>\n",
       "      <th>datetime</th>\n",
       "    </tr>\n",
       "  </thead>\n",
       "  <tbody>\n",
       "    <tr>\n",
       "      <th>1</th>\n",
       "      <td>8697.1</td>\n",
       "      <td>0.003545</td>\n",
       "      <td>1.579481e+09</td>\n",
       "      <td>b</td>\n",
       "      <td>m</td>\n",
       "      <td>2020-01-20 00:41:22.354500055</td>\n",
       "    </tr>\n",
       "    <tr>\n",
       "      <th>4</th>\n",
       "      <td>8691.8</td>\n",
       "      <td>0.002833</td>\n",
       "      <td>1.579481e+09</td>\n",
       "      <td>b</td>\n",
       "      <td>m</td>\n",
       "      <td>2020-01-20 00:42:34.314899921</td>\n",
       "    </tr>\n",
       "    <tr>\n",
       "      <th>54</th>\n",
       "      <td>8669.2</td>\n",
       "      <td>0.026323</td>\n",
       "      <td>1.579481e+09</td>\n",
       "      <td>s</td>\n",
       "      <td>m</td>\n",
       "      <td>2020-01-20 00:43:13.953999996</td>\n",
       "    </tr>\n",
       "    <tr>\n",
       "      <th>55</th>\n",
       "      <td>8669.2</td>\n",
       "      <td>0.973677</td>\n",
       "      <td>1.579481e+09</td>\n",
       "      <td>s</td>\n",
       "      <td>m</td>\n",
       "      <td>2020-01-20 00:43:13.961199999</td>\n",
       "    </tr>\n",
       "    <tr>\n",
       "      <th>56</th>\n",
       "      <td>8669.2</td>\n",
       "      <td>1.000000</td>\n",
       "      <td>1.579481e+09</td>\n",
       "      <td>s</td>\n",
       "      <td>m</td>\n",
       "      <td>2020-01-20 00:43:13.963999987</td>\n",
       "    </tr>\n",
       "  </tbody>\n",
       "</table>\n",
       "</div>"
      ],
      "text/plain": [
       "     price    volume          time buy_or_sell market_or_limit  \\\n",
       "1   8697.1  0.003545  1.579481e+09           b               m   \n",
       "4   8691.8  0.002833  1.579481e+09           b               m   \n",
       "54  8669.2  0.026323  1.579481e+09           s               m   \n",
       "55  8669.2  0.973677  1.579481e+09           s               m   \n",
       "56  8669.2  1.000000  1.579481e+09           s               m   \n",
       "\n",
       "                        datetime  \n",
       "1  2020-01-20 00:41:22.354500055  \n",
       "4  2020-01-20 00:42:34.314899921  \n",
       "54 2020-01-20 00:43:13.953999996  \n",
       "55 2020-01-20 00:43:13.961199999  \n",
       "56 2020-01-20 00:43:13.963999987  "
      ]
     },
     "execution_count": 12,
     "metadata": {},
     "output_type": "execute_result"
    }
   ],
   "source": [
    "trades_df.head()"
   ]
  },
  {
   "cell_type": "code",
   "execution_count": 14,
   "metadata": {},
   "outputs": [
    {
     "data": {
      "text/plain": [
       "(174338, 6)"
      ]
     },
     "execution_count": 14,
     "metadata": {},
     "output_type": "execute_result"
    }
   ],
   "source": [
    "trades_df.shape"
   ]
  },
  {
   "cell_type": "code",
   "execution_count": null,
   "metadata": {},
   "outputs": [],
   "source": []
  },
  {
   "cell_type": "code",
   "execution_count": null,
   "metadata": {},
   "outputs": [],
   "source": [
    "# get 1sec midprice series from BTC data\n"
   ]
  },
  {
   "cell_type": "code",
   "execution_count": null,
   "metadata": {},
   "outputs": [],
   "source": []
  }
 ],
 "metadata": {
  "kernelspec": {
   "display_name": "Python 3",
   "language": "python",
   "name": "python3"
  },
  "language_info": {
   "codemirror_mode": {
    "name": "ipython",
    "version": 3
   },
   "file_extension": ".py",
   "mimetype": "text/x-python",
   "name": "python",
   "nbconvert_exporter": "python",
   "pygments_lexer": "ipython3",
   "version": "3.7.6"
  }
 },
 "nbformat": 4,
 "nbformat_minor": 4
}
